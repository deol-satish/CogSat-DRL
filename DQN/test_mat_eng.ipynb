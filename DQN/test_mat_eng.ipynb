{
 "cells": [
  {
   "cell_type": "code",
   "execution_count": 8,
   "id": "10dfdbcf",
   "metadata": {},
   "outputs": [
    {
     "name": "stdout",
     "output_type": "stream",
     "text": [
      "Step 1, done: False\n",
      "Step 2, done: False\n",
      "Step 3, done: False\n",
      "Step 4, done: False\n",
      "Step 5, done: False\n",
      "Step 6, done: False\n",
      "Step 7, done: False\n",
      "Step 8, done: False\n",
      "Step 9, done: False\n",
      "Step 10, done: False\n",
      "{'GeobaseFreq': 1500000000.0, 'time': '10-Apr-2025 12:01:40', 'LEO_1': {'LEO_Num': 1.0, 'Latitude': -59.12569670246764, 'Longitude': 130.81434232011253, 'AccessStatus': {'Melbourne': True, 'Sydney': False}}, 'LEO_2': {'LEO_Num': 2.0, 'Latitude': -59.13643349960421, 'Longitude': 140.8509773512309, 'AccessStatus': {'Melbourne': True, 'Sydney': False}}, 'LEO_3': {'LEO_Num': 3.0, 'Latitude': -59.14317357788222, 'Longitude': 150.89018545110105, 'AccessStatus': {'Melbourne': True, 'Sydney': False}}}\n",
      "{'LEO_1': {'LEO_Num': 1.0, 'reward': {'Melbourne': {'rssi': -181.95506268867217, 'snr': -31.03487167563543}}}, 'LEO_2': {'LEO_Num': 2.0, 'reward': {'Melbourne': {'rssi': -240.34634215225196, 'snr': -89.42615113921522}}}, 'LEO_3': {'LEO_Num': 3.0, 'reward': {'Melbourne': {'rssi': -438.198939805947, 'snr': -287.2787487929103}}}, 'GEO_1': {'GEO_Num': 1.0, 'reward': {'Melbourne': {'rssi': -103.85696659087003, 'snr': 47.06322442216673}, 'Sydney': {'rssi': -104.54192369399442, 'snr': 46.378267319042344}}}}\n"
     ]
    }
   ],
   "source": [
    "import matlab.engine\n",
    "\n",
    "# Start MATLAB\n",
    "eng = matlab.engine.start_matlab()\n",
    "\n",
    "# Add path if needed\n",
    "eng.addpath(r'./', nargout=0)\n",
    "\n",
    "eng.eval(\"initialiseScenario\", nargout=0)\n",
    "\n",
    "eng.eval(\"resetScenario\", nargout=0)\n",
    "\n",
    "for i in range(10):\n",
    "    eng.eval(\"stepScenario\", nargout=0)\n",
    "    done = eng.workspace['done']\n",
    "    state = eng.workspace['snd_state']\n",
    "    print(f\"Step {i+1}, done: {done}\")\n",
    "    if done:\n",
    "        break\n",
    "\n",
    "# eng.eval(\"SaveData\", nargout=0)\n",
    "\n",
    "reward = eng.workspace['reward']\n",
    "print(state)\n",
    "print(reward)"
   ]
  },
  {
   "cell_type": "code",
   "execution_count": null,
   "id": "5fee4ff5",
   "metadata": {},
   "outputs": [],
   "source": [
    "print(state)\n",
    "print(reward)"
   ]
  }
 ],
 "metadata": {
  "kernelspec": {
   "display_name": "cogsat",
   "language": "python",
   "name": "python3"
  },
  "language_info": {
   "codemirror_mode": {
    "name": "ipython",
    "version": 3
   },
   "file_extension": ".py",
   "mimetype": "text/x-python",
   "name": "python",
   "nbconvert_exporter": "python",
   "pygments_lexer": "ipython3",
   "version": "3.12.9"
  }
 },
 "nbformat": 4,
 "nbformat_minor": 5
}
