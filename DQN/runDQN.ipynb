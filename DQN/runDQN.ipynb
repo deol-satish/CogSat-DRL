{
 "cells": [
  {
   "cell_type": "markdown",
   "id": "27ad70fa",
   "metadata": {},
   "source": [
    "### DQN"
   ]
  },
  {
   "cell_type": "code",
   "execution_count": null,
   "id": "1644e8c8",
   "metadata": {},
   "outputs": [],
   "source": [
    "import gymnasium\n",
    "from stable_baselines3 import DQN\n",
    "from stable_baselines3.common.env_util import DummyVecEnv\n",
    "from stable_baselines3.common.callbacks import CheckpointCallback\n",
    "from stable_baselines3.common.env_checker import check_env\n",
    "from stable_baselines3.common.evaluation import evaluate_policy\n",
    "from utils.env import CogSatEnv\n",
    "\n",
    "import os\n",
    "os.environ[\"KMP_DUPLICATE_LIB_OK\"] = \"TRUE\"\n",
    "\n",
    "# set the seed\n",
    "seed = 42\n",
    "\n",
    "gymnasium.register(\n",
    "    id='CogSatEnv-v1',  # Use the same ID here as you used in the script\n",
    "    entry_point='env:CogSatEnv',\n",
    ")\n",
    "\n",
    "# Initialize the environment\n",
    "env_id = \"CogSatEnv-v1\"\n",
    "env = CogSatEnv()"
   ]
  },
  {
   "cell_type": "code",
   "execution_count": null,
   "id": "cf7598fc",
   "metadata": {},
   "outputs": [],
   "source": [
    "env.reset(seed=seed)  # Reset the environment with the seed"
   ]
  },
  {
   "cell_type": "code",
   "execution_count": null,
   "id": "65a7e381",
   "metadata": {},
   "outputs": [],
   "source": [
    "dummy_env = DummyVecEnv([lambda: env])  # Wrap the environment with DummyVecEnv"
   ]
  },
  {
   "cell_type": "code",
   "execution_count": null,
   "id": "77d01854",
   "metadata": {},
   "outputs": [],
   "source": [
    "\n",
    "epoch_length = 180 ## got through experiment\n",
    "epoch_numbers = 100\n",
    "\n",
    "total_steps = epoch_length * epoch_numbers\n",
    "\n",
    "# Optional: Check the environment\n",
    "check_env(env, warn=True)\n",
    "\n",
    "# Instantiate the model\n",
    "model = DQN(\n",
    "    policy=\"MultiInputPolicy\",\n",
    "    env=env,\n",
    "    learning_rate=1e-4,\n",
    "    buffer_size=50000,\n",
    "    learning_starts=10,\n",
    "    batch_size=16,\n",
    "    tau=1.0,\n",
    "    gamma=0.99,\n",
    "    train_freq=4,\n",
    "    target_update_interval=10,\n",
    "    verbose=1\n",
    ")\n",
    "\n",
    "# Train the agent\n",
    "model.learn(total_timesteps=total_steps)\n",
    "# measure perofmance of training\n",
    "# Save the model\n",
    "model.save(\"dqn_cogsat\")\n",
    "env.close()\n",
    "\n",
    "\n"
   ]
  },
  {
   "cell_type": "code",
   "execution_count": null,
   "id": "2e1e2570",
   "metadata": {},
   "outputs": [],
   "source": [
    "# Run it in sepratae file\n",
    "# Evaluate the agent\n",
    "mean_reward, std_reward = evaluate_policy(model, env, n_eval_episodes=10)\n",
    "print(f\"Mean reward: {mean_reward} +/- {std_reward}\")"
   ]
  },
  {
   "cell_type": "code",
   "execution_count": null,
   "id": "d7a1efba",
   "metadata": {},
   "outputs": [],
   "source": [
    "\n",
    "dummy_env = DummyVecEnv([lambda: env])  # Wrap the environment with DummyVecEnv\n",
    "\n",
    "epoch_length = 884 ## got through experiment\n",
    "epoch_numbers = 100\n",
    "\n",
    "# Set up the checkpoint callback\n",
    "checkpoint_callback = CheckpointCallback(save_freq=epoch_length, save_path='./logs/', name_prefix='rl_model_A2C')\n",
    "\n",
    "# Specify the policy network architecture, here we are using the default MIP\n",
    "model = A2C(\"MultiInputPolicy\", env, ent_coef=0.01, verbose=1, tensorboard_log=\"./a2c_leogeo_tensorboard/\",\n",
    "            seed=seed, learning_rate=0.0001)\n",
    "\n",
    "# Define the total number of timesteps to train the model\n",
    "total_timesteps = epoch_length*epoch_numbers\n",
    "\n",
    "# Train the model\n",
    "model.learn(total_timesteps=total_timesteps, callback=checkpoint_callback)\n",
    "\n",
    "# Save the model\n",
    "model.save(\"a2c_leogeoenv_1\")\n",
    "\n",
    "env.close()\n"
   ]
  }
 ],
 "metadata": {
  "kernelspec": {
   "display_name": "drltest",
   "language": "python",
   "name": "python3"
  },
  "language_info": {
   "codemirror_mode": {
    "name": "ipython",
    "version": 3
   },
   "file_extension": ".py",
   "mimetype": "text/x-python",
   "name": "python",
   "nbconvert_exporter": "python",
   "pygments_lexer": "ipython3",
   "version": "3.12.9"
  }
 },
 "nbformat": 4,
 "nbformat_minor": 5
}
