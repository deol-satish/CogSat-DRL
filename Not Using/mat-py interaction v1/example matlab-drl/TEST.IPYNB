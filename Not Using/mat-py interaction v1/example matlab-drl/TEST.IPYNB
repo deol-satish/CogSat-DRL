{
 "cells": [
  {
   "cell_type": "code",
   "execution_count": 8,
   "id": "102df74f",
   "metadata": {},
   "outputs": [],
   "source": [
    "import numpy as np\n",
    "import torch\n",
    "import gymnasium as gym\n",
    "from stable_baselines3 import A2C\n",
    "from stable_baselines3.common.buffers import RolloutBuffer\n",
    "from stable_baselines3.common.vec_env import DummyVecEnv\n",
    "\n",
    "# === Setup Pendulum environment ===\n",
    "env = gym.make(\"Pendulum-v1\")\n",
    "dummy_env = DummyVecEnv([lambda: env])\n",
    "\n",
    "model = A2C(\"MlpPolicy\", dummy_env, verbose=0, device=\"cpu\")\n",
    "\n",
    "n_steps = 5\n",
    "buffer = RolloutBuffer(\n",
    "    buffer_size=n_steps,\n",
    "    observation_space=env.observation_space,\n",
    "    action_space=env.action_space,\n",
    "    device=model.device,\n",
    "    gamma=model.gamma,\n",
    "    gae_lambda=model.gae_lambda,\n",
    ")\n",
    "\n",
    "# === Globals ===\n",
    "step_count = 0\n",
    "obs_last = None\n",
    "action_last = None\n",
    "value_last = None\n",
    "log_prob_last = None\n",
    "\n",
    "def reset_env():\n",
    "    global obs_last\n",
    "    obs_last = dummy_env.reset()\n",
    "    return obs_last\n",
    "\n",
    "def get_action(obs):\n",
    "    global obs_last, action_last, value_last, log_prob_last\n",
    "    obs_last = np.array(obs, dtype=np.float32).reshape((1, -1))\n",
    "    obs_tensor = torch.tensor(obs_last).float().to(model.device)\n",
    "    with torch.no_grad():\n",
    "        action_tensor, value_tensor, log_prob_tensor = model.policy.forward(obs_tensor)\n",
    "    action_last = action_tensor\n",
    "    value_last = value_tensor\n",
    "    log_prob_last = log_prob_tensor\n",
    "    return action_tensor.cpu().numpy()[0]\n",
    "\n",
    "def my_step(action):\n",
    "    next_obs, reward, terminated, truncated, _ = env.step(np.array(action))\n",
    "    done = terminated or truncated\n",
    "    return next_obs, reward, done\n",
    "\n",
    "def store_transition(reward, done, next_obs):\n",
    "    global step_count, obs_last, action_last, value_last, log_prob_last\n",
    "    reward = np.array([reward], dtype=np.float32)\n",
    "    done = np.array([done], dtype=bool)\n",
    "    next_obs = np.array(next_obs, dtype=np.float32).reshape((1, -1))\n",
    "    buffer.add(obs_last, action_last, reward, done, value_last, log_prob_last)\n",
    "    step_count += 1\n",
    "    obs_last = next_obs\n",
    "    if step_count % n_steps == 0:\n",
    "        with torch.no_grad():\n",
    "            last_val = model.policy.predict_values(torch.tensor(next_obs).float().to(model.device))\n",
    "        buffer.compute_returns_and_advantage(last_val, dones=done)\n",
    "        model.train()\n",
    "\n",
    "def save_model(path=\"a2c_pendulum\"):\n",
    "    model.save(path)\n",
    "\n",
    "def load_model(path=\"a2c_pendulum\"):\n",
    "    global model\n",
    "    model = A2C.load(path)\n",
    "    model.set_env(dummy_env)\n",
    "    return True\n"
   ]
  },
  {
   "cell_type": "code",
   "execution_count": 9,
   "id": "0c2fcb0e",
   "metadata": {},
   "outputs": [],
   "source": [
    "obs_last = reset_env()"
   ]
  },
  {
   "cell_type": "code",
   "execution_count": 10,
   "id": "3409f3b3",
   "metadata": {},
   "outputs": [],
   "source": [
    "action = get_action(obs_last)"
   ]
  },
  {
   "cell_type": "code",
   "execution_count": 11,
   "id": "cdce5af3",
   "metadata": {},
   "outputs": [
    {
     "data": {
      "text/plain": [
       "array([0.53681785], dtype=float32)"
      ]
     },
     "execution_count": 11,
     "metadata": {},
     "output_type": "execute_result"
    }
   ],
   "source": [
    "action"
   ]
  }
 ],
 "metadata": {
  "kernelspec": {
   "display_name": "cogsat",
   "language": "python",
   "name": "python3"
  },
  "language_info": {
   "codemirror_mode": {
    "name": "ipython",
    "version": 3
   },
   "file_extension": ".py",
   "mimetype": "text/x-python",
   "name": "python",
   "nbconvert_exporter": "python",
   "pygments_lexer": "ipython3",
   "version": "3.12.9"
  }
 },
 "nbformat": 4,
 "nbformat_minor": 5
}
