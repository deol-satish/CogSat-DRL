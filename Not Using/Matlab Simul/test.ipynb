{
 "cells": [
  {
   "cell_type": "code",
   "execution_count": 2,
   "id": "38c638ac",
   "metadata": {},
   "outputs": [],
   "source": [
    "import matlab.engine\n",
    "\n",
    "eng = matlab.engine.start_matlab()"
   ]
  },
  {
   "cell_type": "code",
   "execution_count": null,
   "id": "2667ae44",
   "metadata": {},
   "outputs": [
    {
     "name": "stdout",
     "output_type": "stream",
     "text": [
      "Result from MATLAB: 8.0\n"
     ]
    }
   ],
   "source": [
    "res = eng.add_numbers(5.0, 3.0)\n",
    "print(\"Result from MATLAB:\", res)"
   ]
  },
  {
   "cell_type": "code",
   "execution_count": 8,
   "id": "4774af13",
   "metadata": {},
   "outputs": [
    {
     "name": "stdout",
     "output_type": "stream",
     "text": [
      "Result from MATLAB: 58.0\n"
     ]
    }
   ],
   "source": [
    "res = eng.add_numbers(55.0, 3.0)\n",
    "print(\"Result from MATLAB:\", res)"
   ]
  },
  {
   "cell_type": "code",
   "execution_count": 9,
   "id": "aec4abac",
   "metadata": {},
   "outputs": [],
   "source": [
    "eng.quit()"
   ]
  }
 ],
 "metadata": {
  "kernelspec": {
   "display_name": "cogsat",
   "language": "python",
   "name": "python3"
  },
  "language_info": {
   "codemirror_mode": {
    "name": "ipython",
    "version": 3
   },
   "file_extension": ".py",
   "mimetype": "text/x-python",
   "name": "python",
   "nbconvert_exporter": "python",
   "pygments_lexer": "ipython3",
   "version": "3.12.9"
  }
 },
 "nbformat": 4,
 "nbformat_minor": 5
}
