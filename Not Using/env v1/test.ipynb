{
 "cells": [
  {
   "cell_type": "code",
   "execution_count": 2,
   "id": "d0e31915",
   "metadata": {},
   "outputs": [],
   "source": [
    "import pandas as pd\n",
    "import numpy as np\n",
    "import os\n",
    "import sys\n",
    "from utils.settings import channelFreqs\n",
    "\n",
    "dataset_path = \"data/Satellite_Australia_Simulation_Log_2025_04_11_v2.csv\"\n",
    "\n",
    "df = pd.read_csv(dataset_path, header=0)\n",
    "df['Time'] = pd.to_datetime(df['Time'])\n",
    "# Convert Time to UTC timestamp\n",
    "df['Time'] = pd.to_datetime(df['Time']).dt.tz_localize('UTC').astype('int64')\n",
    "\n",
    "# for column in df.columns:\n",
    "#     if \"Freq_Hz\" in column:\n",
    "#         print(f\"Column name: {column}, Type: {df[column].dtype}, Unique values: {df[column].nunique()}, Sample values: {df[column].unique()[:2]}\")\n",
    "#         print(\"Unique values: \", sorted(list(df[column].unique())))\n",
    "#         df_freq_set = sorted(list(df[column].unique()))\n",
    "\n",
    "# set(map(float, channelFreqs)) == set(map(float, df_freq_set))"
   ]
  },
  {
   "cell_type": "code",
   "execution_count": 3,
   "id": "43915016",
   "metadata": {},
   "outputs": [
    {
     "name": "stdout",
     "output_type": "stream",
     "text": [
      "Column name: Time, Type: int64, Unique values: 182, Sample values: [1744286400000000000 1744286410000000000]\n",
      "Column name: GEO1_Name, Type: object, Unique values: 1, Sample values: ['GEO-1']\n",
      "Column name: GEO1_Lat, Type: float64, Unique values: 182, Sample values: [-0.13162565 -0.13166232]\n",
      "Column name: GEO1_Lon, Type: float64, Unique values: 182, Sample values: [141.35228982 141.35230063]\n",
      "Column name: GEO1_Freq_Hz, Type: int64, Unique values: 1, Sample values: [1500000000]\n",
      "Column name: GEO1_Melbourne_Access, Type: int64, Unique values: 2, Sample values: [1 0]\n",
      "Column name: GEO1_Melbourne_SNR_dB, Type: float64, Unique values: 181, Sample values: [47.06321418 47.06321521]\n",
      "Column name: GEO1_Melbourne_RSSI_dBm, Type: float64, Unique values: 181, Sample values: [-103.85697683 -103.8569758 ]\n",
      "Column name: GEO1_Sydney_Access, Type: int64, Unique values: 2, Sample values: [1 0]\n",
      "Column name: GEO1_Sydney_SNR_dB, Type: float64, Unique values: 181, Sample values: [46.37825821 46.37825913]\n",
      "Column name: GEO1_Sydney_RSSI_dBm, Type: float64, Unique values: 181, Sample values: [-104.5419328  -104.54193188]\n",
      "Column name: LEO1_Name, Type: object, Unique values: 1, Sample values: ['LEO-1']\n",
      "Column name: LEO1_Lat, Type: float64, Unique values: 182, Sample values: [-65.25349693 -64.64100767]\n",
      "Column name: LEO1_Lon, Type: float64, Unique values: 182, Sample values: [131.19641504 131.15892198]\n",
      "Column name: LEO1_Freq_Hz, Type: int64, Unique values: 11, Sample values: [1500375000 1501875000]\n",
      "Column name: LEO1_Melbourne_Access, Type: int64, Unique values: 2, Sample values: [0 1]\n",
      "Column name: LEO1_Melbourne_SNR_dB, Type: float64, Unique values: 70, Sample values: [         nan -31.58700302]\n",
      "Column name: LEO1_Melbourne_RSSI_dBm, Type: float64, Unique values: 70, Sample values: [          nan -182.50719403]\n",
      "Column name: LEO1_Sydney_Access, Type: int64, Unique values: 2, Sample values: [0 1]\n",
      "Column name: LEO1_Sydney_SNR_dB, Type: float64, Unique values: 55, Sample values: [        nan -32.4180364]\n",
      "Column name: LEO1_Sydney_RSSI_dBm, Type: float64, Unique values: 55, Sample values: [          nan -183.33822741]\n",
      "Column name: LEO2_Name, Type: object, Unique values: 1, Sample values: ['LEO-2']\n",
      "Column name: LEO2_Lat, Type: float64, Unique values: 182, Sample values: [-65.26423381 -64.65174424]\n",
      "Column name: LEO2_Lon, Type: float64, Unique values: 182, Sample values: [141.24393291 141.20513432]\n",
      "Column name: LEO2_Freq_Hz, Type: int64, Unique values: 11, Sample values: [1498875000 1500625000]\n",
      "Column name: LEO2_Melbourne_Access, Type: int64, Unique values: 2, Sample values: [0 1]\n",
      "Column name: LEO2_Melbourne_SNR_dB, Type: float64, Unique values: 79, Sample values: [         nan -71.83140154]\n",
      "Column name: LEO2_Melbourne_RSSI_dBm, Type: float64, Unique values: 79, Sample values: [          nan -222.75159255]\n",
      "Column name: LEO2_Sydney_Access, Type: int64, Unique values: 2, Sample values: [0 1]\n",
      "Column name: LEO2_Sydney_SNR_dB, Type: float64, Unique values: 73, Sample values: [         nan -76.13746041]\n",
      "Column name: LEO2_Sydney_RSSI_dBm, Type: float64, Unique values: 73, Sample values: [          nan -227.05765142]\n",
      "Column name: LEO3_Name, Type: object, Unique values: 1, Sample values: ['LEO-3']\n",
      "Column name: LEO3_Lat, Type: float64, Unique values: 182, Sample values: [-65.27097446 -64.65848463]\n",
      "Column name: LEO3_Lon, Type: float64, Unique values: 182, Sample values: [151.2947987  151.25460132]\n",
      "Column name: LEO3_Freq_Hz, Type: int64, Unique values: 11, Sample values: [1502125000 1500125000]\n",
      "Column name: LEO3_Melbourne_Access, Type: int64, Unique values: 2, Sample values: [0 1]\n",
      "Column name: LEO3_Melbourne_SNR_dB, Type: float64, Unique values: 68, Sample values: [          nan -201.49901612]\n",
      "Column name: LEO3_Melbourne_RSSI_dBm, Type: float64, Unique values: 68, Sample values: [          nan -352.41920714]\n",
      "Column name: LEO3_Sydney_Access, Type: int64, Unique values: 2, Sample values: [0 1]\n",
      "Column name: LEO3_Sydney_SNR_dB, Type: float64, Unique values: 80, Sample values: [          nan -213.56577604]\n",
      "Column name: LEO3_Sydney_RSSI_dBm, Type: float64, Unique values: 80, Sample values: [          nan -364.48596705]\n",
      "Columns containing any of the specified strings:\n",
      "['Time', 'GEO1_Freq_Hz', 'LEO1_Lat', 'LEO1_Lon', 'LEO1_Freq_Hz', 'LEO2_Lat', 'LEO2_Lon', 'LEO2_Freq_Hz', 'LEO3_Lat', 'LEO3_Lon', 'LEO3_Freq_Hz']\n",
      "New DataFrame with selected columns:\n",
      "                    Time  GEO1_Freq_Hz   LEO1_Lat    LEO1_Lon  LEO1_Freq_Hz  \\\n",
      "0    1744286400000000000    1500000000 -65.253497  131.196415    1500375000   \n",
      "1    1744286410000000000    1500000000 -64.641008  131.158922    1501875000   \n",
      "2    1744286420000000000    1500000000 -64.028457  131.121240    1500875000   \n",
      "3    1744286430000000000    1500000000 -63.415842  131.083383    1500875000   \n",
      "4    1744286440000000000    1500000000 -62.803164  131.045361    1502125000   \n",
      "..                   ...           ...        ...         ...           ...   \n",
      "262 -9223372036854775808    1500000000   0.000000    0.000000             0   \n",
      "263 -9223372036854775808    1500000000   0.000000    0.000000             0   \n",
      "264 -9223372036854775808    1500000000   0.000000    0.000000             0   \n",
      "265 -9223372036854775808    1500000000   0.000000    0.000000             0   \n",
      "266 -9223372036854775808    1500000000   0.000000    0.000000             0   \n",
      "\n",
      "      LEO2_Lat    LEO2_Lon  LEO2_Freq_Hz   LEO3_Lat    LEO3_Lon  LEO3_Freq_Hz  \n",
      "0   -65.264234  141.243933    1498875000 -65.270974  151.294799    1502125000  \n",
      "1   -64.651744  141.205134    1500625000 -64.658485  151.254601    1500125000  \n",
      "2   -64.039193  141.166204    1500875000 -64.045933  151.214334    1501625000  \n",
      "3   -63.426579  141.127152    1502125000 -63.433319  151.174002    1502125000  \n",
      "4   -62.813900  141.087986    1500625000 -62.820640  151.133609    1500375000  \n",
      "..         ...         ...           ...        ...         ...           ...  \n",
      "262   0.000000    0.000000             0   0.000000    0.000000             0  \n",
      "263   0.000000    0.000000             0   0.000000    0.000000             0  \n",
      "264   0.000000    0.000000             0   0.000000    0.000000             0  \n",
      "265   0.000000    0.000000             0   0.000000    0.000000             0  \n",
      "266   0.000000    0.000000             0   0.000000    0.000000             0  \n",
      "\n",
      "[267 rows x 11 columns]\n"
     ]
    }
   ],
   "source": [
    "# Predefined list of strings to check in the column names\n",
    "# obs_reegex_alls = [\"RSSI\", \"SNR\", \"Lat\",\"Lon\",\"Freq_Hz\"]\n",
    "obs_reegex_alls = [\"Lat\",\"Lon\",\"Freq_Hz\"]\n",
    "\n",
    "# Initialize an empty list to store matching column names\n",
    "obs_space_columns = ['Time']\n",
    "\n",
    "# Loop through the columns in the dataframe\n",
    "for column in df.columns:\n",
    "    # Print information about the column\n",
    "    print(f\"Column name: {column}, Type: {df[column].dtype}, Unique values: {df[column].nunique()}, Sample values: {df[column].unique()[:2]}\")\n",
    "\n",
    "    # Check if any string in the predefined list is present in the column name\n",
    "    if any(substring.lower() in column.lower() for substring in obs_reegex_alls):\n",
    "        obs_space_columns.append(column)\n",
    "\n",
    "# Remove specific columns from the list\n",
    "obs_space_columns.remove('GEO1_Lat')\n",
    "obs_space_columns.remove('GEO1_Lon')\n",
    "\n",
    "# Show the resulting list of columns\n",
    "print(\"Columns containing any of the specified strings:\")\n",
    "print(obs_space_columns)\n",
    "\n",
    "\n",
    "\n",
    "# Create a new dataframe with the selected columns\n",
    "df_obs_space = df[obs_space_columns]\n",
    "\n",
    "# Show the new dataframe (optional)\n",
    "print(\"New DataFrame with selected columns:\")\n",
    "print(df_obs_space)\n"
   ]
  },
  {
   "cell_type": "code",
   "execution_count": 4,
   "id": "ca3fda28",
   "metadata": {},
   "outputs": [
    {
     "data": {
      "text/plain": [
       "['Time',\n",
       " 'GEO1_Freq_Hz',\n",
       " 'LEO1_Lat',\n",
       " 'LEO1_Lon',\n",
       " 'LEO1_Freq_Hz',\n",
       " 'LEO2_Lat',\n",
       " 'LEO2_Lon',\n",
       " 'LEO2_Freq_Hz',\n",
       " 'LEO3_Lat',\n",
       " 'LEO3_Lon',\n",
       " 'LEO3_Freq_Hz']"
      ]
     },
     "execution_count": 4,
     "metadata": {},
     "output_type": "execute_result"
    }
   ],
   "source": [
    "obs_space_columns"
   ]
  },
  {
   "cell_type": "code",
   "execution_count": 5,
   "id": "3cea1dd6",
   "metadata": {},
   "outputs": [
    {
     "name": "stdout",
     "output_type": "stream",
     "text": [
      "c:\\Users\\deols\\anaconda3\\envs\\cogsat\\python.exe\n",
      "c:\\Users\\deols\\anaconda3\\envs\\cogsat\\pip\n"
     ]
    }
   ],
   "source": [
    "import os\n",
    "import sys\n",
    "\n",
    "# Get the Python executable of the current environment\n",
    "python_path = sys.executable\n",
    "print(python_path)\n",
    "\n",
    "# Example: Get pip path (assuming same directory as Python)\n",
    "pip_path = os.path.join(os.path.dirname(python_path), \"pip\")\n",
    "print(pip_path)"
   ]
  }
 ],
 "metadata": {
  "kernelspec": {
   "display_name": "cogsat",
   "language": "python",
   "name": "python3"
  },
  "language_info": {
   "codemirror_mode": {
    "name": "ipython",
    "version": 3
   },
   "file_extension": ".py",
   "mimetype": "text/x-python",
   "name": "python",
   "nbconvert_exporter": "python",
   "pygments_lexer": "ipython3",
   "version": "3.12.9"
  }
 },
 "nbformat": 4,
 "nbformat_minor": 5
}
