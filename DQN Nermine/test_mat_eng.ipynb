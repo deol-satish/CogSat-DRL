{
 "cells": [
  {
   "cell_type": "code",
   "execution_count": null,
   "id": "7ff44312",
   "metadata": {},
   "outputs": [],
   "source": [
    "import logging\n",
    "import json\n",
    "import numpy as np\n",
    "from datetime import datetime, timedelta"
   ]
  },
  {
   "cell_type": "code",
   "execution_count": 2,
   "id": "2c5e5104",
   "metadata": {},
   "outputs": [],
   "source": [
    "import matlab.engine\n",
    "\n",
    "# Start MATLAB\n",
    "eng = matlab.engine.start_matlab()"
   ]
  },
  {
   "cell_type": "code",
   "execution_count": 3,
   "id": "bdeeff9f",
   "metadata": {},
   "outputs": [],
   "source": [
    "# Add path if needed\n",
    "eng.addpath(r'./matlab_code', nargout=0)\n",
    "\n",
    "eng.eval(\"P00_Main\", nargout=0)"
   ]
  },
  {
   "cell_type": "code",
   "execution_count": 11,
   "id": "2e19ad02",
   "metadata": {},
   "outputs": [],
   "source": [
    "ts = eng.workspace['ts']"
   ]
  },
  {
   "cell_type": "code",
   "execution_count": null,
   "id": "4fbd85e9",
   "metadata": {},
   "outputs": [
    {
     "data": {
      "text/plain": [
       "matlab.object"
      ]
     },
     "execution_count": 10,
     "metadata": {},
     "output_type": "execute_result"
    }
   ],
   "source": [
    "type(ts)"
   ]
  },
  {
   "cell_type": "code",
   "execution_count": 21,
   "id": "048e0281",
   "metadata": {},
   "outputs": [],
   "source": [
    "ts_str = eng.eval(\"cellstr(datestr(ts, 'yyyy-mm-ddTHH:MM:SS'))\", nargout=1)\n",
    "python_datetimes = [datetime.fromisoformat(s) for s in ts_str]\n"
   ]
  },
  {
   "cell_type": "code",
   "execution_count": 24,
   "id": "7c53bbee",
   "metadata": {},
   "outputs": [],
   "source": [
    "def get_matlab_ts():\n",
    "    \"\"\"\n",
    "    Get the MATLAB timestamp as a list of strings.\n",
    "    \"\"\"\n",
    "    ts_str = eng.eval(\"cellstr(datestr(ts, 'yyyy-mm-ddTHH:MM:SS'))\", nargout=1)\n",
    "    python_datetimes = [datetime.fromisoformat(s) for s in ts_str]\n",
    "    return python_datetimes"
   ]
  },
  {
   "cell_type": "code",
   "execution_count": 25,
   "id": "9b640d8f",
   "metadata": {},
   "outputs": [
    {
     "data": {
      "text/plain": [
       "[datetime.datetime(2025, 4, 10, 12, 0),\n",
       " datetime.datetime(2025, 4, 10, 12, 1),\n",
       " datetime.datetime(2025, 4, 10, 12, 2),\n",
       " datetime.datetime(2025, 4, 10, 12, 3),\n",
       " datetime.datetime(2025, 4, 10, 12, 4),\n",
       " datetime.datetime(2025, 4, 10, 12, 5),\n",
       " datetime.datetime(2025, 4, 10, 12, 6),\n",
       " datetime.datetime(2025, 4, 10, 12, 7),\n",
       " datetime.datetime(2025, 4, 10, 12, 8),\n",
       " datetime.datetime(2025, 4, 10, 12, 9),\n",
       " datetime.datetime(2025, 4, 10, 12, 10),\n",
       " datetime.datetime(2025, 4, 10, 12, 11),\n",
       " datetime.datetime(2025, 4, 10, 12, 12),\n",
       " datetime.datetime(2025, 4, 10, 12, 13),\n",
       " datetime.datetime(2025, 4, 10, 12, 14),\n",
       " datetime.datetime(2025, 4, 10, 12, 15),\n",
       " datetime.datetime(2025, 4, 10, 12, 16),\n",
       " datetime.datetime(2025, 4, 10, 12, 17),\n",
       " datetime.datetime(2025, 4, 10, 12, 18),\n",
       " datetime.datetime(2025, 4, 10, 12, 19),\n",
       " datetime.datetime(2025, 4, 10, 12, 20),\n",
       " datetime.datetime(2025, 4, 10, 12, 21),\n",
       " datetime.datetime(2025, 4, 10, 12, 22),\n",
       " datetime.datetime(2025, 4, 10, 12, 23),\n",
       " datetime.datetime(2025, 4, 10, 12, 24),\n",
       " datetime.datetime(2025, 4, 10, 12, 25),\n",
       " datetime.datetime(2025, 4, 10, 12, 26),\n",
       " datetime.datetime(2025, 4, 10, 12, 27),\n",
       " datetime.datetime(2025, 4, 10, 12, 28),\n",
       " datetime.datetime(2025, 4, 10, 12, 29),\n",
       " datetime.datetime(2025, 4, 10, 12, 30),\n",
       " datetime.datetime(2025, 4, 10, 12, 31),\n",
       " datetime.datetime(2025, 4, 10, 12, 32),\n",
       " datetime.datetime(2025, 4, 10, 12, 33),\n",
       " datetime.datetime(2025, 4, 10, 12, 34),\n",
       " datetime.datetime(2025, 4, 10, 12, 35),\n",
       " datetime.datetime(2025, 4, 10, 12, 36),\n",
       " datetime.datetime(2025, 4, 10, 12, 37),\n",
       " datetime.datetime(2025, 4, 10, 12, 38),\n",
       " datetime.datetime(2025, 4, 10, 12, 39),\n",
       " datetime.datetime(2025, 4, 10, 12, 40),\n",
       " datetime.datetime(2025, 4, 10, 12, 41),\n",
       " datetime.datetime(2025, 4, 10, 12, 42),\n",
       " datetime.datetime(2025, 4, 10, 12, 43),\n",
       " datetime.datetime(2025, 4, 10, 12, 44),\n",
       " datetime.datetime(2025, 4, 10, 12, 45),\n",
       " datetime.datetime(2025, 4, 10, 12, 46),\n",
       " datetime.datetime(2025, 4, 10, 12, 47),\n",
       " datetime.datetime(2025, 4, 10, 12, 48),\n",
       " datetime.datetime(2025, 4, 10, 12, 49),\n",
       " datetime.datetime(2025, 4, 10, 12, 50),\n",
       " datetime.datetime(2025, 4, 10, 12, 51),\n",
       " datetime.datetime(2025, 4, 10, 12, 52),\n",
       " datetime.datetime(2025, 4, 10, 12, 53),\n",
       " datetime.datetime(2025, 4, 10, 12, 54),\n",
       " datetime.datetime(2025, 4, 10, 12, 55),\n",
       " datetime.datetime(2025, 4, 10, 12, 56),\n",
       " datetime.datetime(2025, 4, 10, 12, 57),\n",
       " datetime.datetime(2025, 4, 10, 12, 58),\n",
       " datetime.datetime(2025, 4, 10, 12, 59),\n",
       " datetime.datetime(2025, 4, 10, 13, 0)]"
      ]
     },
     "execution_count": 25,
     "metadata": {},
     "output_type": "execute_result"
    }
   ],
   "source": [
    "get_matlab_ts()"
   ]
  },
  {
   "cell_type": "code",
   "execution_count": 19,
   "id": "672bb0a7",
   "metadata": {},
   "outputs": [],
   "source": [
    "from datetime import datetime\n",
    "\n",
    "# Convert MATLAB string array to Python list of datetime objects\n",
    "python_datetimes = [datetime.fromisoformat(s) for s in ts_str]\n"
   ]
  },
  {
   "cell_type": "code",
   "execution_count": 22,
   "id": "9c87cc43",
   "metadata": {},
   "outputs": [
    {
     "data": {
      "text/plain": [
       "[datetime.datetime(2025, 4, 10, 12, 0),\n",
       " datetime.datetime(2025, 4, 10, 12, 1),\n",
       " datetime.datetime(2025, 4, 10, 12, 2),\n",
       " datetime.datetime(2025, 4, 10, 12, 3),\n",
       " datetime.datetime(2025, 4, 10, 12, 4),\n",
       " datetime.datetime(2025, 4, 10, 12, 5),\n",
       " datetime.datetime(2025, 4, 10, 12, 6),\n",
       " datetime.datetime(2025, 4, 10, 12, 7),\n",
       " datetime.datetime(2025, 4, 10, 12, 8),\n",
       " datetime.datetime(2025, 4, 10, 12, 9),\n",
       " datetime.datetime(2025, 4, 10, 12, 10),\n",
       " datetime.datetime(2025, 4, 10, 12, 11),\n",
       " datetime.datetime(2025, 4, 10, 12, 12),\n",
       " datetime.datetime(2025, 4, 10, 12, 13),\n",
       " datetime.datetime(2025, 4, 10, 12, 14),\n",
       " datetime.datetime(2025, 4, 10, 12, 15),\n",
       " datetime.datetime(2025, 4, 10, 12, 16),\n",
       " datetime.datetime(2025, 4, 10, 12, 17),\n",
       " datetime.datetime(2025, 4, 10, 12, 18),\n",
       " datetime.datetime(2025, 4, 10, 12, 19),\n",
       " datetime.datetime(2025, 4, 10, 12, 20),\n",
       " datetime.datetime(2025, 4, 10, 12, 21),\n",
       " datetime.datetime(2025, 4, 10, 12, 22),\n",
       " datetime.datetime(2025, 4, 10, 12, 23),\n",
       " datetime.datetime(2025, 4, 10, 12, 24),\n",
       " datetime.datetime(2025, 4, 10, 12, 25),\n",
       " datetime.datetime(2025, 4, 10, 12, 26),\n",
       " datetime.datetime(2025, 4, 10, 12, 27),\n",
       " datetime.datetime(2025, 4, 10, 12, 28),\n",
       " datetime.datetime(2025, 4, 10, 12, 29),\n",
       " datetime.datetime(2025, 4, 10, 12, 30),\n",
       " datetime.datetime(2025, 4, 10, 12, 31),\n",
       " datetime.datetime(2025, 4, 10, 12, 32),\n",
       " datetime.datetime(2025, 4, 10, 12, 33),\n",
       " datetime.datetime(2025, 4, 10, 12, 34),\n",
       " datetime.datetime(2025, 4, 10, 12, 35),\n",
       " datetime.datetime(2025, 4, 10, 12, 36),\n",
       " datetime.datetime(2025, 4, 10, 12, 37),\n",
       " datetime.datetime(2025, 4, 10, 12, 38),\n",
       " datetime.datetime(2025, 4, 10, 12, 39),\n",
       " datetime.datetime(2025, 4, 10, 12, 40),\n",
       " datetime.datetime(2025, 4, 10, 12, 41),\n",
       " datetime.datetime(2025, 4, 10, 12, 42),\n",
       " datetime.datetime(2025, 4, 10, 12, 43),\n",
       " datetime.datetime(2025, 4, 10, 12, 44),\n",
       " datetime.datetime(2025, 4, 10, 12, 45),\n",
       " datetime.datetime(2025, 4, 10, 12, 46),\n",
       " datetime.datetime(2025, 4, 10, 12, 47),\n",
       " datetime.datetime(2025, 4, 10, 12, 48),\n",
       " datetime.datetime(2025, 4, 10, 12, 49),\n",
       " datetime.datetime(2025, 4, 10, 12, 50),\n",
       " datetime.datetime(2025, 4, 10, 12, 51),\n",
       " datetime.datetime(2025, 4, 10, 12, 52),\n",
       " datetime.datetime(2025, 4, 10, 12, 53),\n",
       " datetime.datetime(2025, 4, 10, 12, 54),\n",
       " datetime.datetime(2025, 4, 10, 12, 55),\n",
       " datetime.datetime(2025, 4, 10, 12, 56),\n",
       " datetime.datetime(2025, 4, 10, 12, 57),\n",
       " datetime.datetime(2025, 4, 10, 12, 58),\n",
       " datetime.datetime(2025, 4, 10, 12, 59),\n",
       " datetime.datetime(2025, 4, 10, 13, 0)]"
      ]
     },
     "execution_count": 22,
     "metadata": {},
     "output_type": "execute_result"
    }
   ],
   "source": [
    "python_datetimes"
   ]
  },
  {
   "cell_type": "code",
   "execution_count": null,
   "id": "03990c4d",
   "metadata": {},
   "outputs": [],
   "source": [
    "time_np = np.array(ts)"
   ]
  },
  {
   "cell_type": "code",
   "execution_count": 14,
   "id": "a8e25251",
   "metadata": {},
   "outputs": [
    {
     "ename": "AttributeError",
     "evalue": "'matlab.object' object has no attribute 'year'",
     "output_type": "error",
     "traceback": [
      "\u001b[31m---------------------------------------------------------------------------\u001b[39m",
      "\u001b[31mAttributeError\u001b[39m                            Traceback (most recent call last)",
      "\u001b[36mCell\u001b[39m\u001b[36m \u001b[39m\u001b[32mIn[14]\u001b[39m\u001b[32m, line 4\u001b[39m\n\u001b[32m      1\u001b[39m \u001b[38;5;28;01mfrom\u001b[39;00m\u001b[38;5;250m \u001b[39m\u001b[34;01mdatetime\u001b[39;00m\u001b[38;5;250m \u001b[39m\u001b[38;5;28;01mimport\u001b[39;00m datetime, timedelta\n\u001b[32m      2\u001b[39m \u001b[38;5;66;03m# Convert to Python list of datetime.datetime\u001b[39;00m\n\u001b[32m      3\u001b[39m python_datetimes = [\n\u001b[32m----> \u001b[39m\u001b[32m4\u001b[39m     datetime(\u001b[43md\u001b[49m\u001b[43m.\u001b[49m\u001b[43myear\u001b[49m, d.month, d.day, d.hour, d.minute, \u001b[38;5;28mint\u001b[39m(d.second))\n\u001b[32m      5\u001b[39m     \u001b[38;5;28;01mfor\u001b[39;00m d \u001b[38;5;129;01min\u001b[39;00m ts\n\u001b[32m      6\u001b[39m ]\n\u001b[32m      8\u001b[39m \u001b[38;5;66;03m# Now `python_datetimes` is a standard Python list of datetime objects\u001b[39;00m\n\u001b[32m      9\u001b[39m \u001b[38;5;28mprint\u001b[39m(python_datetimes[:\u001b[32m5\u001b[39m])  \u001b[38;5;66;03m# show first 5 as a preview\u001b[39;00m\n",
      "\u001b[31mAttributeError\u001b[39m: 'matlab.object' object has no attribute 'year'"
     ]
    }
   ],
   "source": [
    "from datetime import datetime, timedelta\n",
    "# Convert to Python list of datetime.datetime\n",
    "python_datetimes = [\n",
    "    datetime(d.year, d.month, d.day, d.hour, d.minute, int(d.second))\n",
    "    for d in ts\n",
    "]\n",
    "\n",
    "# Now `python_datetimes` is a standard Python list of datetime objects\n",
    "print(python_datetimes[:5])  # show first 5 as a preview"
   ]
  },
  {
   "cell_type": "code",
   "execution_count": 8,
   "id": "061bd442",
   "metadata": {},
   "outputs": [],
   "source": [
    "eng.eval(\"stepScenario\", nargout=0)"
   ]
  },
  {
   "cell_type": "code",
   "execution_count": 10,
   "id": "db03a4e4",
   "metadata": {},
   "outputs": [
    {
     "data": {
      "text/plain": [
       "matlab.double"
      ]
     },
     "execution_count": 10,
     "metadata": {},
     "output_type": "execute_result"
    }
   ],
   "source": [
    "type(eng.workspace['ChannelListLeo'])"
   ]
  },
  {
   "cell_type": "code",
   "execution_count": 11,
   "id": "511f71d2",
   "metadata": {},
   "outputs": [],
   "source": [
    "# Access the variable from MATLAB workspace\n",
    "channel_list_leo = eng.workspace['ChannelListLeo']\n",
    "\n",
    "import numpy as np\n",
    "\n",
    "# Convert MATLAB array to NumPy array\n",
    "channel_list_leo_np = np.array(channel_list_leo)\n"
   ]
  },
  {
   "cell_type": "code",
   "execution_count": 13,
   "id": "0a332efe",
   "metadata": {},
   "outputs": [
    {
     "data": {
      "text/plain": [
       "(20, 588, 61)"
      ]
     },
     "execution_count": 13,
     "metadata": {},
     "output_type": "execute_result"
    }
   ],
   "source": [
    "channel_list_leo_np.shape"
   ]
  },
  {
   "cell_type": "code",
   "execution_count": null,
   "id": "c4d63fe8",
   "metadata": {},
   "outputs": [
    {
     "data": {
      "text/plain": [
       "array([16.,  5., 13., 12.,  3., 24.,  6., 22., 23.,  2.,  6.,  9., 19.,\n",
       "       12., 20.,  7., 10., 16., 21., 24.,  4., 15., 13., 13., 14.,  6.,\n",
       "       23.,  6., 18., 18.,  1., 23.,  8., 19., 21.,  9.,  6., 22., 14.,\n",
       "        8., 25., 21., 21., 23., 11.,  6., 14.,  8.,  4., 15.,  9.,  4.,\n",
       "       23.,  1.,  4.,  2.,  4., 16., 25., 23., 13.])"
      ]
     },
     "execution_count": 17,
     "metadata": {},
     "output_type": "execute_result"
    }
   ],
   "source": [
    "channel_list_leo_np[0, 0, :]"
   ]
  },
  {
   "cell_type": "code",
   "execution_count": 18,
   "id": "27543563",
   "metadata": {},
   "outputs": [],
   "source": [
    "channel_list_leo_np[0, 0, 0] = 0 "
   ]
  },
  {
   "cell_type": "code",
   "execution_count": 25,
   "id": "57ba57ab",
   "metadata": {},
   "outputs": [
    {
     "data": {
      "text/plain": [
       "array([ 0.,  5., 13., 12.,  3., 24.,  6., 22., 23.,  2.,  6.,  9., 19.,\n",
       "       12., 20.,  7., 10., 16., 21., 24.,  4., 15., 13., 13., 14.,  6.,\n",
       "       23.,  6., 18., 18.,  1., 23.,  8., 19., 21.,  9.,  6., 22., 14.,\n",
       "        8., 25., 21., 21., 23., 11.,  6., 14.,  8.,  4., 15.,  9.,  4.,\n",
       "       23.,  1.,  4.,  2.,  4., 16., 25., 23., 13.])"
      ]
     },
     "execution_count": 25,
     "metadata": {},
     "output_type": "execute_result"
    }
   ],
   "source": [
    "channel_list_leo_np[0, 0, :]"
   ]
  },
  {
   "cell_type": "code",
   "execution_count": 26,
   "id": "fc017b13",
   "metadata": {},
   "outputs": [
    {
     "data": {
      "text/plain": [
       "array([ 0.,  5., 13., 12.,  3., 24.,  6., 22., 23.,  2.,  6.,  9., 19.,\n",
       "       12., 20.,  7., 10., 16., 21., 24.,  4., 15., 13., 13., 14.,  6.,\n",
       "       23.,  6., 18., 18.,  1., 23.,  8., 19., 21.,  9.,  6., 22., 14.,\n",
       "        8., 25., 21., 21., 23., 11.,  6., 14.,  8.,  4., 15.,  9.,  4.,\n",
       "       23.,  1.,  4.,  2.,  4., 16., 25., 23., 13.])"
      ]
     },
     "execution_count": 26,
     "metadata": {},
     "output_type": "execute_result"
    }
   ],
   "source": [
    "channel_list_leo_np[0, 0, :]"
   ]
  },
  {
   "cell_type": "code",
   "execution_count": 27,
   "id": "413e3c32",
   "metadata": {},
   "outputs": [
    {
     "data": {
      "text/plain": [
       "array([[18.6321532 , 18.1738114 , 17.39065735, ..., 17.20543613,\n",
       "        17.44561847, 18.58896993],\n",
       "       [18.16319211, 17.30538242, 18.08549828, ..., 17.37947523,\n",
       "        18.26986927, 18.56015032],\n",
       "       [17.42374332, 18.62265417, 17.35184075, ..., 17.21182997,\n",
       "        17.76578274, 18.81068168],\n",
       "       ...,\n",
       "       [20.64317084, 19.30829737, 19.6917181 , ..., 21.06221538,\n",
       "        22.61125077, 19.29726157],\n",
       "       [19.24414496, 19.86530261, 20.27652475, ..., 19.55346561,\n",
       "        21.53226105, 20.82383074],\n",
       "       [19.47818656, 21.3687709 , 20.31451662, ..., 20.42383194,\n",
       "        21.88752985, 19.05797169]])"
      ]
     },
     "execution_count": 27,
     "metadata": {},
     "output_type": "execute_result"
    }
   ],
   "source": [
    "np.array(eng.workspace['SINR'])"
   ]
  },
  {
   "cell_type": "code",
   "execution_count": 28,
   "id": "e72b0923",
   "metadata": {},
   "outputs": [
    {
     "data": {
      "text/plain": [
       "(20, 61)"
      ]
     },
     "execution_count": 28,
     "metadata": {},
     "output_type": "execute_result"
    }
   ],
   "source": [
    "np.array(eng.workspace['SINR']).shape"
   ]
  },
  {
   "cell_type": "code",
   "execution_count": 21,
   "id": "ff0edebb",
   "metadata": {},
   "outputs": [],
   "source": [
    "eng.workspace['ChannelListLeo'] = matlab.double(channel_list_leo_np)"
   ]
  },
  {
   "cell_type": "code",
   "execution_count": 22,
   "id": "39cad803",
   "metadata": {},
   "outputs": [],
   "source": [
    "# Access the variable from MATLAB workspace\n",
    "channel_list_leo = eng.workspace['ChannelListLeo']\n",
    "\n",
    "import numpy as np\n",
    "\n",
    "# Convert MATLAB array to NumPy array\n",
    "channel_list_leo_np = np.array(channel_list_leo)\n"
   ]
  },
  {
   "cell_type": "code",
   "execution_count": 23,
   "id": "b823ac9d",
   "metadata": {},
   "outputs": [
    {
     "data": {
      "text/plain": [
       "array([[[ 0.,  5., 13., ..., 25., 23., 13.],\n",
       "        [ 6.,  3., 10., ...,  8.,  4., 15.],\n",
       "        [21.,  6., 20., ..., 13., 12.,  5.],\n",
       "        ...,\n",
       "        [ 7., 15., 15., ..., 12., 20., 24.],\n",
       "        [15.,  9.,  2., ...,  7.,  3.,  3.],\n",
       "        [23., 15.,  7., ..., 15.,  9., 13.]],\n",
       "\n",
       "       [[14.,  4., 19., ..., 12.,  4., 15.],\n",
       "        [10.,  4.,  2., ..., 17.,  9., 10.],\n",
       "        [ 3.,  8., 10., ..., 19., 14., 21.],\n",
       "        ...,\n",
       "        [ 6., 22.,  2., ..., 24., 17., 17.],\n",
       "        [24., 22., 22., ..., 24., 12., 20.],\n",
       "        [ 7.,  2.,  1., ...,  8., 14., 12.]],\n",
       "\n",
       "       [[ 8., 12., 22., ..., 19.,  8., 14.],\n",
       "        [18., 15., 24., ..., 22., 16.,  5.],\n",
       "        [17., 11.,  9., ..., 25.,  2., 12.],\n",
       "        ...,\n",
       "        [12., 17., 23., ...,  1.,  7., 16.],\n",
       "        [19., 24., 19., ..., 23., 25., 21.],\n",
       "        [14.,  7.,  4., ...,  2.,  8., 11.]],\n",
       "\n",
       "       ...,\n",
       "\n",
       "       [[nan, nan, nan, ..., nan, nan, nan],\n",
       "        [nan, nan, nan, ..., nan, nan, nan],\n",
       "        [nan, nan, nan, ..., nan, nan, nan],\n",
       "        ...,\n",
       "        [nan, nan, nan, ..., nan, nan, nan],\n",
       "        [nan, nan, nan, ..., nan, nan, nan],\n",
       "        [nan, nan, nan, ..., nan, nan, nan]],\n",
       "\n",
       "       [[nan, nan, nan, ..., nan, nan, nan],\n",
       "        [nan, nan, nan, ..., nan, nan, nan],\n",
       "        [nan, nan, nan, ..., nan, nan, nan],\n",
       "        ...,\n",
       "        [nan, nan, nan, ..., nan, nan, nan],\n",
       "        [nan, nan, nan, ..., nan, nan, nan],\n",
       "        [nan, nan, nan, ..., nan, nan, nan]],\n",
       "\n",
       "       [[nan, nan, nan, ..., nan, nan, nan],\n",
       "        [nan, nan, nan, ..., nan, nan, nan],\n",
       "        [nan, nan, nan, ..., nan, nan, nan],\n",
       "        ...,\n",
       "        [nan, nan, nan, ..., nan, nan, nan],\n",
       "        [nan, nan, nan, ..., nan, nan, nan],\n",
       "        [nan, nan, nan, ..., nan, nan, nan]]])"
      ]
     },
     "execution_count": 23,
     "metadata": {},
     "output_type": "execute_result"
    }
   ],
   "source": [
    "channel_list_leo_np"
   ]
  },
  {
   "cell_type": "code",
   "execution_count": 3,
   "id": "d186f1e4",
   "metadata": {},
   "outputs": [],
   "source": [
    "eng.eval(\"resetScenario\", nargout=0)"
   ]
  },
  {
   "cell_type": "code",
   "execution_count": 4,
   "id": "26abd4bc",
   "metadata": {},
   "outputs": [],
   "source": [
    "leoNum = int(eng.workspace['leoNum'])\n",
    "geoNum = int(eng.workspace['geoNum'])\n",
    "cities = eng.workspace['cities_py']\n",
    "\n",
    "nuser = len(cities)"
   ]
  },
  {
   "cell_type": "code",
   "execution_count": 5,
   "id": "9821a7c8",
   "metadata": {},
   "outputs": [
    {
     "data": {
      "text/plain": [
       "2"
      ]
     },
     "execution_count": 5,
     "metadata": {},
     "output_type": "execute_result"
    }
   ],
   "source": [
    "nuser"
   ]
  },
  {
   "cell_type": "code",
   "execution_count": 6,
   "id": "216f97d4",
   "metadata": {},
   "outputs": [],
   "source": [
    "channelFreqs = eng.workspace['channelFreqs']"
   ]
  },
  {
   "cell_type": "code",
   "execution_count": 7,
   "id": "0e5db40c",
   "metadata": {},
   "outputs": [],
   "source": [
    "currentLEOFreqs = eng.workspace['currentLEOFreqs']"
   ]
  },
  {
   "cell_type": "code",
   "execution_count": 8,
   "id": "21e0baea",
   "metadata": {},
   "outputs": [
    {
     "data": {
      "text/plain": [
       "1502125000.0"
      ]
     },
     "execution_count": 8,
     "metadata": {},
     "output_type": "execute_result"
    }
   ],
   "source": [
    "currentLEOFreqs[0][0]"
   ]
  },
  {
   "cell_type": "code",
   "execution_count": 9,
   "id": "513a9948",
   "metadata": {},
   "outputs": [],
   "source": [
    "eng.workspace['currentLEOFreqs'][0][0] = 0.0"
   ]
  },
  {
   "cell_type": "code",
   "execution_count": 10,
   "id": "aa095c6d",
   "metadata": {},
   "outputs": [
    {
     "data": {
      "text/plain": [
       "matlab.double([[1502125000.0,1501375000.0,1498875000.0]])"
      ]
     },
     "execution_count": 10,
     "metadata": {},
     "output_type": "execute_result"
    }
   ],
   "source": [
    "eng.workspace['currentLEOFreqs']"
   ]
  },
  {
   "cell_type": "code",
   "execution_count": 11,
   "id": "aad5ce9d",
   "metadata": {},
   "outputs": [],
   "source": [
    "#Retrieve the current value\n",
    "currentLEOFreqs = eng.workspace['currentLEOFreqs']"
   ]
  },
  {
   "cell_type": "code",
   "execution_count": 12,
   "id": "e74f2967",
   "metadata": {},
   "outputs": [
    {
     "data": {
      "text/plain": [
       "[1502125000.0, 1501375000.0, 1498875000.0]"
      ]
     },
     "execution_count": 12,
     "metadata": {},
     "output_type": "execute_result"
    }
   ],
   "source": [
    "np.array(currentLEOFreqs).flatten().tolist()"
   ]
  },
  {
   "cell_type": "code",
   "execution_count": 13,
   "id": "e3b6260e",
   "metadata": {},
   "outputs": [],
   "source": [
    "currentLEOFreqs = np.array(currentLEOFreqs).flatten()"
   ]
  },
  {
   "cell_type": "code",
   "execution_count": 14,
   "id": "99ec0e59",
   "metadata": {},
   "outputs": [
    {
     "data": {
      "text/plain": [
       "[1502125000.0, 1501375000.0, 1498875000.0]"
      ]
     },
     "execution_count": 14,
     "metadata": {},
     "output_type": "execute_result"
    }
   ],
   "source": [
    "currentLEOFreqs.tolist()"
   ]
  },
  {
   "cell_type": "code",
   "execution_count": 15,
   "id": "fa8dcf3c",
   "metadata": {},
   "outputs": [],
   "source": [
    "\n",
    "\n",
    "# #Modify the values (example change)\n",
    "# new_values = [1502126000.0, 1501376000.0, 1498876000.0]\n",
    "\n",
    "# new_values = np.array(currentLEOFreqs).flatten().tolist()\n",
    "\n",
    "# #Update the workspace variable\n",
    "# eng.workspace['currentLEOFreqs'] = matlab.double(new_values)"
   ]
  },
  {
   "cell_type": "code",
   "execution_count": 16,
   "id": "df8d13b6",
   "metadata": {},
   "outputs": [
    {
     "data": {
      "text/plain": [
       "matlab.double([[1502125000.0,1501375000.0,1498875000.0]])"
      ]
     },
     "execution_count": 16,
     "metadata": {},
     "output_type": "execute_result"
    }
   ],
   "source": [
    "eng.workspace['currentLEOFreqs']"
   ]
  },
  {
   "cell_type": "code",
   "execution_count": 17,
   "id": "96e60810",
   "metadata": {},
   "outputs": [
    {
     "data": {
      "text/plain": [
       "1498875000.0"
      ]
     },
     "execution_count": 17,
     "metadata": {},
     "output_type": "execute_result"
    }
   ],
   "source": [
    "channelFreqs[0][0]"
   ]
  },
  {
   "cell_type": "code",
   "execution_count": 18,
   "id": "d347d181",
   "metadata": {},
   "outputs": [
    {
     "data": {
      "text/plain": [
       "False"
      ]
     },
     "execution_count": 18,
     "metadata": {},
     "output_type": "execute_result"
    }
   ],
   "source": [
    "type(currentLEOFreqs) == type(float(0))"
   ]
  },
  {
   "cell_type": "code",
   "execution_count": 19,
   "id": "4646a6ce",
   "metadata": {},
   "outputs": [
    {
     "data": {
      "text/plain": [
       "10"
      ]
     },
     "execution_count": 19,
     "metadata": {},
     "output_type": "execute_result"
    }
   ],
   "source": [
    "len(list(channelFreqs[0]))"
   ]
  },
  {
   "cell_type": "code",
   "execution_count": 20,
   "id": "dc964838",
   "metadata": {},
   "outputs": [
    {
     "data": {
      "text/plain": [
       "matlab.double([[1498875000.0,1500125000.0,1500375000.0,1500625000.0,1500875000.0,1501125000.0,1501375000.0,1501625000.0,1501875000.0,1502125000.0]])"
      ]
     },
     "execution_count": 20,
     "metadata": {},
     "output_type": "execute_result"
    }
   ],
   "source": [
    "channelFreqs"
   ]
  },
  {
   "cell_type": "code",
   "execution_count": 21,
   "id": "e50d9828",
   "metadata": {},
   "outputs": [
    {
     "data": {
      "text/plain": [
       "matlab.double([1498875000.0,1500125000.0,1500375000.0,1500625000.0,1500875000.0,1501125000.0,1501375000.0,1501625000.0,1501875000.0,1502125000.0])"
      ]
     },
     "execution_count": 21,
     "metadata": {},
     "output_type": "execute_result"
    }
   ],
   "source": [
    "channelFreqs[0]"
   ]
  },
  {
   "cell_type": "code",
   "execution_count": 22,
   "id": "214dae44",
   "metadata": {},
   "outputs": [
    {
     "name": "stdout",
     "output_type": "stream",
     "text": [
      "Leo Satelitte ID 0.0\n",
      "Time Index 1.0\n"
     ]
    }
   ],
   "source": [
    "print(\"Leo Satelitte ID\",eng.workspace['leoIndex'])\n",
    "print(\"Time Index\",eng.workspace['tIdx'])"
   ]
  },
  {
   "cell_type": "code",
   "execution_count": 23,
   "id": "402659c9",
   "metadata": {},
   "outputs": [
    {
     "name": "stdout",
     "output_type": "stream",
     "text": [
      "{'GeobaseFreq': 1500000000.0, 'time': '10-Apr-2025 12:00:00', 'LEO_1': {'LEO_Num': 1.0, 'Latitude': -65.25349692661547, 'Longitude': 131.1964150359908, 'AccessStatus': {'Melbourne': False, 'Sydney': False}}, 'LEO_2': {'LEO_Num': 2.0, 'Latitude': -65.26423381451286, 'Longitude': 141.24393291499436, 'AccessStatus': {'Melbourne': False, 'Sydney': False}}, 'LEO_3': {'LEO_Num': 3.0, 'Latitude': -65.2709744633676, 'Longitude': 151.294798696656, 'AccessStatus': {'Melbourne': False, 'Sydney': False}}}\n",
      "{'LEO_1': {'LEO_Num': 1.0, 'reward': {}}, 'LEO_2': {'LEO_Num': 2.0, 'reward': {}}, 'LEO_3': {'LEO_Num': 3.0, 'reward': {}}, 'GEO_1': {'GEO_Num': 1.0, 'reward': {'Melbourne': {'rssi': -103.85697683401858, 'snr': 47.06321417901818}, 'Sydney': {'rssi': -104.54193280099128, 'snr': 46.37825821204548}}}}\n",
      "Step, done: False\n",
      "Leo Satelitte ID 1.0\n",
      "Time Index 1.0\n"
     ]
    }
   ],
   "source": [
    "eng.eval(\"stepScenario\", nargout=0)\n",
    "done = eng.workspace['done']\n",
    "state = eng.workspace['snd_state']\n",
    "reward = eng.workspace['reward']\n",
    "print(state)\n",
    "print(reward)\n",
    "print(f\"Step, done: {done}\")\n",
    "print(\"Leo Satelitte ID\",eng.workspace['leoIndex'])\n",
    "print(\"Time Index\",eng.workspace['tIdx'])"
   ]
  },
  {
   "cell_type": "code",
   "execution_count": 24,
   "id": "dab777b4",
   "metadata": {},
   "outputs": [
    {
     "name": "stdout",
     "output_type": "stream",
     "text": [
      "Leo Satelitte ID 1.0\n",
      "Time Index 1.0\n"
     ]
    }
   ],
   "source": [
    "print(\"Leo Satelitte ID\",eng.workspace['leoIndex'])\n",
    "print(\"Time Index\",eng.workspace['tIdx'])"
   ]
  },
  {
   "cell_type": "code",
   "execution_count": 25,
   "id": "10dfdbcf",
   "metadata": {},
   "outputs": [
    {
     "name": "stdout",
     "output_type": "stream",
     "text": [
      "{'GeobaseFreq': 1500000000.0, 'time': '10-Apr-2025 12:00:00', 'LEO_1': {'LEO_Num': 1.0, 'Latitude': -65.25349692661547, 'Longitude': 131.1964150359908, 'AccessStatus': {'Melbourne': False, 'Sydney': False}}, 'LEO_2': {'LEO_Num': 2.0, 'Latitude': -65.26423381451286, 'Longitude': 141.24393291499436, 'AccessStatus': {'Melbourne': False, 'Sydney': False}}, 'LEO_3': {'LEO_Num': 3.0, 'Latitude': -65.2709744633676, 'Longitude': 151.294798696656, 'AccessStatus': {'Melbourne': False, 'Sydney': False}}}\n",
      "{'LEO_1': {'LEO_Num': 1.0, 'reward': {}}, 'LEO_2': {'LEO_Num': 2.0, 'reward': {}}, 'LEO_3': {'LEO_Num': 3.0, 'reward': {}}, 'GEO_1': {'GEO_Num': 1.0, 'reward': {'Melbourne': {'rssi': -103.85697683401858, 'snr': 47.06321417901818}, 'Sydney': {'rssi': -104.54193280099128, 'snr': 46.37825821204548}}}}\n",
      "Step 1, done: False\n",
      "Leo Satelitte ID 2.0\n",
      "Time Index 1.0\n",
      "{'GeobaseFreq': 1500000000.0, 'time': '10-Apr-2025 12:00:00', 'LEO_1': {'LEO_Num': 1.0, 'Latitude': -65.25349692661547, 'Longitude': 131.1964150359908, 'AccessStatus': {'Melbourne': False, 'Sydney': False}}, 'LEO_2': {'LEO_Num': 2.0, 'Latitude': -65.26423381451286, 'Longitude': 141.24393291499436, 'AccessStatus': {'Melbourne': False, 'Sydney': False}}, 'LEO_3': {'LEO_Num': 3.0, 'Latitude': -65.2709744633676, 'Longitude': 151.294798696656, 'AccessStatus': {'Melbourne': False, 'Sydney': False}}}\n",
      "{'LEO_1': {'LEO_Num': 1.0, 'reward': {}}, 'LEO_2': {'LEO_Num': 2.0, 'reward': {}}, 'LEO_3': {'LEO_Num': 3.0, 'reward': {}}, 'GEO_1': {'GEO_Num': 1.0, 'reward': {'Melbourne': {'rssi': -103.85697683401858, 'snr': 47.06321417901818}, 'Sydney': {'rssi': -104.54193280099128, 'snr': 46.37825821204548}}}}\n",
      "Step 2, done: False\n",
      "Leo Satelitte ID 3.0\n",
      "Time Index 1.0\n",
      "{'GeobaseFreq': 1500000000.0, 'time': '10-Apr-2025 12:00:10', 'LEO_1': {'LEO_Num': 1.0, 'Latitude': -64.6410076737912, 'Longitude': 131.15892197593672, 'AccessStatus': {'Melbourne': False, 'Sydney': False}}, 'LEO_2': {'LEO_Num': 2.0, 'Latitude': -64.65174424162525, 'Longitude': 141.20513431992123, 'AccessStatus': {'Melbourne': False, 'Sydney': False}}, 'LEO_3': {'LEO_Num': 3.0, 'Latitude': -64.6584846278651, 'Longitude': 151.2546013199499, 'AccessStatus': {'Melbourne': False, 'Sydney': False}}}\n",
      "{'LEO_1': {'LEO_Num': 1.0, 'reward': {}}, 'LEO_2': {'LEO_Num': 2.0, 'reward': {}}, 'LEO_3': {'LEO_Num': 3.0, 'reward': {}}, 'GEO_1': {'GEO_Num': 1.0, 'reward': {'Melbourne': {'rssi': -103.85697580090937, 'snr': 47.06321521212739}, 'Sydney': {'rssi': -104.5419318829557, 'snr': 46.37825913008107}}}}\n",
      "Step 3, done: False\n",
      "Leo Satelitte ID 1.0\n",
      "Time Index 2.0\n",
      "{'GeobaseFreq': 1500000000.0, 'time': '10-Apr-2025 12:00:10', 'LEO_1': {'LEO_Num': 1.0, 'Latitude': -64.6410076737912, 'Longitude': 131.15892197593672, 'AccessStatus': {'Melbourne': False, 'Sydney': False}}, 'LEO_2': {'LEO_Num': 2.0, 'Latitude': -64.65174424162525, 'Longitude': 141.20513431992123, 'AccessStatus': {'Melbourne': False, 'Sydney': False}}, 'LEO_3': {'LEO_Num': 3.0, 'Latitude': -64.6584846278651, 'Longitude': 151.2546013199499, 'AccessStatus': {'Melbourne': False, 'Sydney': False}}}\n",
      "{'LEO_1': {'LEO_Num': 1.0, 'reward': {}}, 'LEO_2': {'LEO_Num': 2.0, 'reward': {}}, 'LEO_3': {'LEO_Num': 3.0, 'reward': {}}, 'GEO_1': {'GEO_Num': 1.0, 'reward': {'Melbourne': {'rssi': -103.85697580090937, 'snr': 47.06321521212739}, 'Sydney': {'rssi': -104.5419318829557, 'snr': 46.37825913008107}}}}\n",
      "Step 4, done: False\n",
      "Leo Satelitte ID 2.0\n",
      "Time Index 2.0\n",
      "{'GeobaseFreq': 1500000000.0, 'time': '10-Apr-2025 12:00:10', 'LEO_1': {'LEO_Num': 1.0, 'Latitude': -64.6410076737912, 'Longitude': 131.15892197593672, 'AccessStatus': {'Melbourne': False, 'Sydney': False}}, 'LEO_2': {'LEO_Num': 2.0, 'Latitude': -64.65174424162525, 'Longitude': 141.20513431992123, 'AccessStatus': {'Melbourne': False, 'Sydney': False}}, 'LEO_3': {'LEO_Num': 3.0, 'Latitude': -64.6584846278651, 'Longitude': 151.2546013199499, 'AccessStatus': {'Melbourne': False, 'Sydney': False}}}\n",
      "{'LEO_1': {'LEO_Num': 1.0, 'reward': {}}, 'LEO_2': {'LEO_Num': 2.0, 'reward': {}}, 'LEO_3': {'LEO_Num': 3.0, 'reward': {}}, 'GEO_1': {'GEO_Num': 1.0, 'reward': {'Melbourne': {'rssi': -103.85697580090937, 'snr': 47.06321521212739}, 'Sydney': {'rssi': -104.5419318829557, 'snr': 46.37825913008107}}}}\n",
      "Step 5, done: False\n",
      "Leo Satelitte ID 3.0\n",
      "Time Index 2.0\n",
      "{'GeobaseFreq': 1500000000.0, 'time': '10-Apr-2025 12:00:20', 'LEO_1': {'LEO_Num': 1.0, 'Latitude': -64.02845652716644, 'Longitude': 131.1212399996478, 'AccessStatus': {'Melbourne': False, 'Sydney': False}}, 'LEO_2': {'LEO_Num': 2.0, 'Latitude': -64.03919285514107, 'Longitude': 141.16620421790708, 'AccessStatus': {'Melbourne': False, 'Sydney': False}}, 'LEO_3': {'LEO_Num': 3.0, 'Latitude': -64.04593303184946, 'Longitude': 151.2143340213967, 'AccessStatus': {'Melbourne': False, 'Sydney': False}}}\n",
      "{'LEO_1': {'LEO_Num': 1.0, 'reward': {}}, 'LEO_2': {'LEO_Num': 2.0, 'reward': {}}, 'LEO_3': {'LEO_Num': 3.0, 'reward': {}}, 'GEO_1': {'GEO_Num': 1.0, 'reward': {'Melbourne': {'rssi': -103.85697477010626, 'snr': 47.063216242930494}, 'Sydney': {'rssi': -104.54193096860962, 'snr': 46.378260044427144}}}}\n",
      "Step 6, done: False\n",
      "Leo Satelitte ID 1.0\n",
      "Time Index 3.0\n",
      "{'GeobaseFreq': 1500000000.0, 'time': '10-Apr-2025 12:00:20', 'LEO_1': {'LEO_Num': 1.0, 'Latitude': -64.02845652716644, 'Longitude': 131.1212399996478, 'AccessStatus': {'Melbourne': False, 'Sydney': False}}, 'LEO_2': {'LEO_Num': 2.0, 'Latitude': -64.03919285514107, 'Longitude': 141.16620421790708, 'AccessStatus': {'Melbourne': False, 'Sydney': False}}, 'LEO_3': {'LEO_Num': 3.0, 'Latitude': -64.04593303184946, 'Longitude': 151.2143340213967, 'AccessStatus': {'Melbourne': False, 'Sydney': False}}}\n",
      "{'LEO_1': {'LEO_Num': 1.0, 'reward': {}}, 'LEO_2': {'LEO_Num': 2.0, 'reward': {}}, 'LEO_3': {'LEO_Num': 3.0, 'reward': {}}, 'GEO_1': {'GEO_Num': 1.0, 'reward': {'Melbourne': {'rssi': -103.85697477010626, 'snr': 47.063216242930494}, 'Sydney': {'rssi': -104.54193096860962, 'snr': 46.378260044427144}}}}\n",
      "Step 7, done: False\n",
      "Leo Satelitte ID 2.0\n",
      "Time Index 3.0\n",
      "{'GeobaseFreq': 1500000000.0, 'time': '10-Apr-2025 12:00:20', 'LEO_1': {'LEO_Num': 1.0, 'Latitude': -64.02845652716644, 'Longitude': 131.1212399996478, 'AccessStatus': {'Melbourne': False, 'Sydney': False}}, 'LEO_2': {'LEO_Num': 2.0, 'Latitude': -64.03919285514107, 'Longitude': 141.16620421790708, 'AccessStatus': {'Melbourne': False, 'Sydney': False}}, 'LEO_3': {'LEO_Num': 3.0, 'Latitude': -64.04593303184946, 'Longitude': 151.2143340213967, 'AccessStatus': {'Melbourne': False, 'Sydney': False}}}\n",
      "{'LEO_1': {'LEO_Num': 1.0, 'reward': {}}, 'LEO_2': {'LEO_Num': 2.0, 'reward': {}}, 'LEO_3': {'LEO_Num': 3.0, 'reward': {}}, 'GEO_1': {'GEO_Num': 1.0, 'reward': {'Melbourne': {'rssi': -103.85697477010626, 'snr': 47.063216242930494}, 'Sydney': {'rssi': -104.54193096860962, 'snr': 46.378260044427144}}}}\n",
      "Step 8, done: False\n",
      "Leo Satelitte ID 3.0\n",
      "Time Index 3.0\n",
      "{'GeobaseFreq': 1500000000.0, 'time': '10-Apr-2025 12:00:30', 'LEO_1': {'LEO_Num': 1.0, 'Latitude': -63.41584242738945, 'Longitude': 131.08338252253174, 'AccessStatus': {'Melbourne': False, 'Sydney': False}}, 'LEO_2': {'LEO_Num': 2.0, 'Latitude': -63.426578591003555, 'Longitude': 141.12715204984954, 'AccessStatus': {'Melbourne': False, 'Sydney': False}}, 'LEO_3': {'LEO_Num': 3.0, 'Latitude': -63.433318608118974, 'Longitude': 151.17400197389222, 'AccessStatus': {'Melbourne': False, 'Sydney': False}}}\n",
      "{'LEO_1': {'LEO_Num': 1.0, 'reward': {}}, 'LEO_2': {'LEO_Num': 2.0, 'reward': {}}, 'LEO_3': {'LEO_Num': 3.0, 'reward': {}}, 'GEO_1': {'GEO_Num': 1.0, 'reward': {'Melbourne': {'rssi': -103.8569737408529, 'snr': 47.06321727218386}, 'Sydney': {'rssi': -104.5419300535383, 'snr': 46.37826095949847}}}}\n",
      "Step 9, done: False\n",
      "Leo Satelitte ID 1.0\n",
      "Time Index 4.0\n",
      "{'GeobaseFreq': 1500000000.0, 'time': '10-Apr-2025 12:00:30', 'LEO_1': {'LEO_Num': 1.0, 'Latitude': -63.41584242738945, 'Longitude': 131.08338252253174, 'AccessStatus': {'Melbourne': False, 'Sydney': False}}, 'LEO_2': {'LEO_Num': 2.0, 'Latitude': -63.426578591003555, 'Longitude': 141.12715204984954, 'AccessStatus': {'Melbourne': False, 'Sydney': False}}, 'LEO_3': {'LEO_Num': 3.0, 'Latitude': -63.433318608118974, 'Longitude': 151.17400197389222, 'AccessStatus': {'Melbourne': False, 'Sydney': False}}}\n",
      "{'LEO_1': {'LEO_Num': 1.0, 'reward': {}}, 'LEO_2': {'LEO_Num': 2.0, 'reward': {}}, 'LEO_3': {'LEO_Num': 3.0, 'reward': {}}, 'GEO_1': {'GEO_Num': 1.0, 'reward': {'Melbourne': {'rssi': -103.8569737408529, 'snr': 47.06321727218386}, 'Sydney': {'rssi': -104.5419300535383, 'snr': 46.37826095949847}}}}\n",
      "Step 10, done: False\n",
      "Leo Satelitte ID 2.0\n",
      "Time Index 4.0\n",
      "{'GeobaseFreq': 1500000000.0, 'time': '10-Apr-2025 12:00:30', 'LEO_1': {'LEO_Num': 1.0, 'Latitude': -63.41584242738945, 'Longitude': 131.08338252253174, 'AccessStatus': {'Melbourne': False, 'Sydney': False}}, 'LEO_2': {'LEO_Num': 2.0, 'Latitude': -63.426578591003555, 'Longitude': 141.12715204984954, 'AccessStatus': {'Melbourne': False, 'Sydney': False}}, 'LEO_3': {'LEO_Num': 3.0, 'Latitude': -63.433318608118974, 'Longitude': 151.17400197389222, 'AccessStatus': {'Melbourne': False, 'Sydney': False}}}\n",
      "{'LEO_1': {'LEO_Num': 1.0, 'reward': {}}, 'LEO_2': {'LEO_Num': 2.0, 'reward': {}}, 'LEO_3': {'LEO_Num': 3.0, 'reward': {}}, 'GEO_1': {'GEO_Num': 1.0, 'reward': {'Melbourne': {'rssi': -103.8569737408529, 'snr': 47.06321727218386}, 'Sydney': {'rssi': -104.5419300535383, 'snr': 46.37826095949847}}}}\n",
      "Step 11, done: False\n",
      "Leo Satelitte ID 3.0\n",
      "Time Index 4.0\n",
      "{'GeobaseFreq': 1500000000.0, 'time': '10-Apr-2025 12:00:40', 'LEO_1': {'LEO_Num': 1.0, 'Latitude': -62.8031643104829, 'Longitude': 131.04536128046678, 'AccessStatus': {'Melbourne': False, 'Sydney': False}}, 'LEO_2': {'LEO_Num': 2.0, 'Latitude': -62.81390038061986, 'Longitude': 141.08798593391876, 'AccessStatus': {'Melbourne': False, 'Sydney': False}}, 'LEO_3': {'LEO_Num': 3.0, 'Latitude': -62.82064028501093, 'Longitude': 151.13360941115093, 'AccessStatus': {'Melbourne': False, 'Sydney': False}}}\n",
      "{'LEO_1': {'LEO_Num': 1.0, 'reward': {}}, 'LEO_2': {'LEO_Num': 2.0, 'reward': {}}, 'LEO_3': {'LEO_Num': 3.0, 'reward': {}}, 'GEO_1': {'GEO_Num': 1.0, 'reward': {'Melbourne': {'rssi': -103.85697271352828, 'snr': 47.06321829950848}, 'Sydney': {'rssi': -104.54192913995013, 'snr': 46.37826187308664}}}}\n",
      "Step 12, done: False\n",
      "Leo Satelitte ID 1.0\n",
      "Time Index 5.0\n",
      "{'GeobaseFreq': 1500000000.0, 'time': '10-Apr-2025 12:00:40', 'LEO_1': {'LEO_Num': 1.0, 'Latitude': -62.8031643104829, 'Longitude': 131.04536128046678, 'AccessStatus': {'Melbourne': False, 'Sydney': False}}, 'LEO_2': {'LEO_Num': 2.0, 'Latitude': -62.81390038061986, 'Longitude': 141.08798593391876, 'AccessStatus': {'Melbourne': False, 'Sydney': False}}, 'LEO_3': {'LEO_Num': 3.0, 'Latitude': -62.82064028501093, 'Longitude': 151.13360941115093, 'AccessStatus': {'Melbourne': False, 'Sydney': False}}}\n",
      "{'LEO_1': {'LEO_Num': 1.0, 'reward': {}}, 'LEO_2': {'LEO_Num': 2.0, 'reward': {}}, 'LEO_3': {'LEO_Num': 3.0, 'reward': {}}, 'GEO_1': {'GEO_Num': 1.0, 'reward': {'Melbourne': {'rssi': -103.85697271352828, 'snr': 47.06321829950848}, 'Sydney': {'rssi': -104.54192913995013, 'snr': 46.37826187308664}}}}\n",
      "Step 13, done: False\n",
      "Leo Satelitte ID 2.0\n",
      "Time Index 5.0\n",
      "{'GeobaseFreq': 1500000000.0, 'time': '10-Apr-2025 12:00:40', 'LEO_1': {'LEO_Num': 1.0, 'Latitude': -62.8031643104829, 'Longitude': 131.04536128046678, 'AccessStatus': {'Melbourne': False, 'Sydney': False}}, 'LEO_2': {'LEO_Num': 2.0, 'Latitude': -62.81390038061986, 'Longitude': 141.08798593391876, 'AccessStatus': {'Melbourne': False, 'Sydney': False}}, 'LEO_3': {'LEO_Num': 3.0, 'Latitude': -62.82064028501093, 'Longitude': 151.13360941115093, 'AccessStatus': {'Melbourne': False, 'Sydney': False}}}\n",
      "{'LEO_1': {'LEO_Num': 1.0, 'reward': {}}, 'LEO_2': {'LEO_Num': 2.0, 'reward': {}}, 'LEO_3': {'LEO_Num': 3.0, 'reward': {}}, 'GEO_1': {'GEO_Num': 1.0, 'reward': {'Melbourne': {'rssi': -103.85697271352828, 'snr': 47.06321829950848}, 'Sydney': {'rssi': -104.54192913995013, 'snr': 46.37826187308664}}}}\n",
      "Step 14, done: False\n",
      "Leo Satelitte ID 3.0\n",
      "Time Index 5.0\n",
      "{'GeobaseFreq': 1500000000.0, 'time': '10-Apr-2025 12:00:50', 'LEO_1': {'LEO_Num': 1.0, 'Latitude': -62.19042117778287, 'Longitude': 131.00718696337805, 'AccessStatus': {'Melbourne': False, 'Sydney': False}}, 'LEO_2': {'LEO_Num': 2.0, 'Latitude': -62.20115722166916, 'Longitude': 141.04871325992195, 'AccessStatus': {'Melbourne': True, 'Sydney': False}}, 'LEO_3': {'LEO_Num': 3.0, 'Latitude': -62.20789705774804, 'Longitude': 151.09316017987686, 'AccessStatus': {'Melbourne': True, 'Sydney': False}}}\n",
      "{'LEO_1': {'LEO_Num': 1.0, 'reward': {}}, 'LEO_2': {'LEO_Num': 2.0, 'reward': {'Melbourne': {'rssi': -222.88628292506144, 'snr': -71.9660919120247}}}, 'LEO_3': {'LEO_Num': 3.0, 'reward': {'Melbourne': {'rssi': -352.03504949333865, 'snr': -201.1148584803019}}}, 'GEO_1': {'GEO_Num': 1.0, 'reward': {'Melbourne': {'rssi': -103.85697168851138, 'snr': 47.063219324525384}, 'Sydney': {'rssi': -104.54192823005222, 'snr': 46.37826278298454}}}}\n",
      "Step 15, done: False\n",
      "Leo Satelitte ID 1.0\n",
      "Time Index 6.0\n",
      "{'GeobaseFreq': 1500000000.0, 'time': '10-Apr-2025 12:00:50', 'LEO_1': {'LEO_Num': 1.0, 'Latitude': -62.19042117778287, 'Longitude': 131.00718696337805, 'AccessStatus': {'Melbourne': False, 'Sydney': False}}, 'LEO_2': {'LEO_Num': 2.0, 'Latitude': -62.20115722166916, 'Longitude': 141.04871325992195, 'AccessStatus': {'Melbourne': True, 'Sydney': False}}, 'LEO_3': {'LEO_Num': 3.0, 'Latitude': -62.20789705774804, 'Longitude': 151.09316017987686, 'AccessStatus': {'Melbourne': True, 'Sydney': False}}}\n",
      "{'LEO_1': {'LEO_Num': 1.0, 'reward': {}}, 'LEO_2': {'LEO_Num': 2.0, 'reward': {'Melbourne': {'rssi': -222.88628292506144, 'snr': -71.9660919120247}}}, 'LEO_3': {'LEO_Num': 3.0, 'reward': {'Melbourne': {'rssi': -352.03504949333865, 'snr': -201.1148584803019}}}, 'GEO_1': {'GEO_Num': 1.0, 'reward': {'Melbourne': {'rssi': -103.85697168851138, 'snr': 47.063219324525384}, 'Sydney': {'rssi': -104.54192823005222, 'snr': 46.37826278298454}}}}\n",
      "Step 16, done: False\n",
      "Leo Satelitte ID 2.0\n",
      "Time Index 6.0\n",
      "{'GeobaseFreq': 1500000000.0, 'time': '10-Apr-2025 12:00:50', 'LEO_1': {'LEO_Num': 1.0, 'Latitude': -62.19042117778287, 'Longitude': 131.00718696337805, 'AccessStatus': {'Melbourne': False, 'Sydney': False}}, 'LEO_2': {'LEO_Num': 2.0, 'Latitude': -62.20115722166916, 'Longitude': 141.04871325992195, 'AccessStatus': {'Melbourne': True, 'Sydney': False}}, 'LEO_3': {'LEO_Num': 3.0, 'Latitude': -62.20789705774804, 'Longitude': 151.09316017987686, 'AccessStatus': {'Melbourne': True, 'Sydney': False}}}\n",
      "{'LEO_1': {'LEO_Num': 1.0, 'reward': {}}, 'LEO_2': {'LEO_Num': 2.0, 'reward': {'Melbourne': {'rssi': -222.88628292506144, 'snr': -71.9660919120247}}}, 'LEO_3': {'LEO_Num': 3.0, 'reward': {'Melbourne': {'rssi': -352.03504949333865, 'snr': -201.1148584803019}}}, 'GEO_1': {'GEO_Num': 1.0, 'reward': {'Melbourne': {'rssi': -103.85697168851138, 'snr': 47.063219324525384}, 'Sydney': {'rssi': -104.54192823005222, 'snr': 46.37826278298454}}}}\n",
      "Step 17, done: False\n",
      "Leo Satelitte ID 3.0\n",
      "Time Index 6.0\n",
      "{'GeobaseFreq': 1500000000.0, 'time': '10-Apr-2025 12:01:00', 'LEO_1': {'LEO_Num': 1.0, 'Latitude': -61.57761203812181, 'Longitude': 130.96886983208833, 'AccessStatus': {'Melbourne': False, 'Sydney': False}}, 'LEO_2': {'LEO_Num': 2.0, 'Latitude': -61.58834811911731, 'Longitude': 141.00934127200134, 'AccessStatus': {'Melbourne': True, 'Sydney': False}}, 'LEO_3': {'LEO_Num': 3.0, 'Latitude': -61.595087928725114, 'Longitude': 151.0526582857175, 'AccessStatus': {'Melbourne': True, 'Sydney': False}}}\n",
      "{'LEO_1': {'LEO_Num': 1.0, 'reward': {}}, 'LEO_2': {'LEO_Num': 2.0, 'reward': {'Melbourne': {'rssi': -225.98688305559284, 'snr': -75.0666920425561}}}, 'LEO_3': {'LEO_Num': 3.0, 'reward': {'Melbourne': {'rssi': -366.49809725715943, 'snr': -215.5779062441227}}}, 'GEO_1': {'GEO_Num': 1.0, 'reward': {'Melbourne': {'rssi': -103.85697066504575, 'snr': 47.06322034799101}, 'Sydney': {'rssi': -104.54192731942982, 'snr': 46.37826369360695}}}}\n",
      "Step 18, done: False\n",
      "Leo Satelitte ID 1.0\n",
      "Time Index 7.0\n",
      "{'GeobaseFreq': 1500000000.0, 'time': '10-Apr-2025 12:01:00', 'LEO_1': {'LEO_Num': 1.0, 'Latitude': -61.57761203812181, 'Longitude': 130.96886983208833, 'AccessStatus': {'Melbourne': False, 'Sydney': False}}, 'LEO_2': {'LEO_Num': 2.0, 'Latitude': -61.58834811911731, 'Longitude': 141.00934127200134, 'AccessStatus': {'Melbourne': True, 'Sydney': False}}, 'LEO_3': {'LEO_Num': 3.0, 'Latitude': -61.595087928725114, 'Longitude': 151.0526582857175, 'AccessStatus': {'Melbourne': True, 'Sydney': False}}}\n",
      "{'LEO_1': {'LEO_Num': 1.0, 'reward': {}}, 'LEO_2': {'LEO_Num': 2.0, 'reward': {'Melbourne': {'rssi': -225.98688305559284, 'snr': -75.0666920425561}}}, 'LEO_3': {'LEO_Num': 3.0, 'reward': {'Melbourne': {'rssi': -366.49809725715943, 'snr': -215.5779062441227}}}, 'GEO_1': {'GEO_Num': 1.0, 'reward': {'Melbourne': {'rssi': -103.85697066504575, 'snr': 47.06322034799101}, 'Sydney': {'rssi': -104.54192731942982, 'snr': 46.37826369360695}}}}\n",
      "Step 19, done: False\n",
      "Leo Satelitte ID 2.0\n",
      "Time Index 7.0\n",
      "{'GeobaseFreq': 1500000000.0, 'time': '10-Apr-2025 12:01:00', 'LEO_1': {'LEO_Num': 1.0, 'Latitude': -61.57761203812181, 'Longitude': 130.96886983208833, 'AccessStatus': {'Melbourne': False, 'Sydney': False}}, 'LEO_2': {'LEO_Num': 2.0, 'Latitude': -61.58834811911731, 'Longitude': 141.00934127200134, 'AccessStatus': {'Melbourne': True, 'Sydney': False}}, 'LEO_3': {'LEO_Num': 3.0, 'Latitude': -61.595087928725114, 'Longitude': 151.0526582857175, 'AccessStatus': {'Melbourne': True, 'Sydney': False}}}\n",
      "{'LEO_1': {'LEO_Num': 1.0, 'reward': {}}, 'LEO_2': {'LEO_Num': 2.0, 'reward': {'Melbourne': {'rssi': -225.98688305559284, 'snr': -75.0666920425561}}}, 'LEO_3': {'LEO_Num': 3.0, 'reward': {'Melbourne': {'rssi': -366.49809725715943, 'snr': -215.5779062441227}}}, 'GEO_1': {'GEO_Num': 1.0, 'reward': {'Melbourne': {'rssi': -103.85697066504575, 'snr': 47.06322034799101}, 'Sydney': {'rssi': -104.54192731942982, 'snr': 46.37826369360695}}}}\n",
      "Step 20, done: False\n",
      "Leo Satelitte ID 3.0\n",
      "Time Index 7.0\n",
      "{'LEO_1': {'LEO_Num': 1.0, 'reward': {}}, 'LEO_2': {'LEO_Num': 2.0, 'reward': {'Melbourne': {'rssi': -225.98688305559284, 'snr': -75.0666920425561}}}, 'LEO_3': {'LEO_Num': 3.0, 'reward': {'Melbourne': {'rssi': -366.49809725715943, 'snr': -215.5779062441227}}}, 'GEO_1': {'GEO_Num': 1.0, 'reward': {'Melbourne': {'rssi': -103.85697066504575, 'snr': 47.06322034799101}, 'Sydney': {'rssi': -104.54192731942982, 'snr': 46.37826369360695}}}}\n"
     ]
    }
   ],
   "source": [
    "for i in range(20):\n",
    "    eng.eval(\"stepScenario\", nargout=0)\n",
    "    done = eng.workspace['done']\n",
    "    state = eng.workspace['snd_state']\n",
    "    reward = eng.workspace['reward']\n",
    "    print(state)\n",
    "    print(reward)\n",
    "    print(f\"Step {i+1}, done: {done}\")\n",
    "    print(\"Leo Satelitte ID\",eng.workspace['leoIndex'])\n",
    "    print(\"Time Index\",eng.workspace['tIdx'])\n",
    "    if done:\n",
    "        break\n",
    "\n",
    "# eng.eval(\"SaveData\", nargout=0)\n",
    "\n",
    "\n",
    "print(reward)"
   ]
  },
  {
   "cell_type": "code",
   "execution_count": null,
   "id": "056252a8",
   "metadata": {},
   "outputs": [
    {
     "name": "stdout",
     "output_type": "stream",
     "text": [
      "Saving MATLAB Data.\n"
     ]
    },
    {
     "ename": "",
     "evalue": "",
     "output_type": "error",
     "traceback": [
      "\u001b[1;31mThe Kernel crashed while executing code in the current cell or a previous cell. \n",
      "\u001b[1;31mPlease review the code in the cell(s) to identify a possible cause of the failure. \n",
      "\u001b[1;31mClick <a href='https://aka.ms/vscodeJupyterKernelCrash'>here</a> for more info. \n",
      "\u001b[1;31mView Jupyter <a href='command:jupyter.viewOutput'>log</a> for further details."
     ]
    }
   ],
   "source": [
    "print(\"Saving MATLAB Data.\")\n",
    "eng.eval(\"SaveData\", nargout=0)"
   ]
  },
  {
   "cell_type": "code",
   "execution_count": null,
   "id": "5b854112",
   "metadata": {},
   "outputs": [
    {
     "ename": "ValueError",
     "evalue": "only a scalar struct can be returned from MATLAB",
     "output_type": "error",
     "traceback": [
      "\u001b[31m---------------------------------------------------------------------------\u001b[39m",
      "\u001b[31mValueError\u001b[39m                                Traceback (most recent call last)",
      "\u001b[36mCell\u001b[39m\u001b[36m \u001b[39m\u001b[32mIn[15]\u001b[39m\u001b[32m, line 1\u001b[39m\n\u001b[32m----> \u001b[39m\u001b[32m1\u001b[39m \u001b[43meng\u001b[49m\u001b[43m.\u001b[49m\u001b[43mworkspace\u001b[49m\u001b[43m[\u001b[49m\u001b[33;43m'\u001b[39;49m\u001b[33;43mlogData\u001b[39;49m\u001b[33;43m'\u001b[39;49m\u001b[43m]\u001b[49m\n",
      "\u001b[36mFile \u001b[39m\u001b[32mc:\\Users\\deols\\anaconda3\\envs\\drltest\\Lib\\site-packages\\matlab\\engine\\matlabengine.py:120\u001b[39m, in \u001b[36mMatlabWorkSpace.__getitem__\u001b[39m\u001b[34m(self, attr)\u001b[39m\n\u001b[32m    118\u001b[39m \u001b[38;5;28mself\u001b[39m.__validate_identity(attr)\n\u001b[32m    119\u001b[39m _method=MatlabFunc(\u001b[38;5;28mself\u001b[39m._engine(), \u001b[33m\"\u001b[39m\u001b[33mmatlab.internal.engine.getVariable\u001b[39m\u001b[33m\"\u001b[39m)\n\u001b[32m--> \u001b[39m\u001b[32m120\u001b[39m future = \u001b[43m_method\u001b[49m\u001b[43m(\u001b[49m\u001b[43mattr\u001b[49m\u001b[43m)\u001b[49m\n\u001b[32m    121\u001b[39m \u001b[38;5;28;01mreturn\u001b[39;00m future\n",
      "\u001b[36mFile \u001b[39m\u001b[32mc:\\Users\\deols\\anaconda3\\envs\\drltest\\Lib\\site-packages\\matlab\\engine\\matlabengine.py:71\u001b[39m, in \u001b[36mMatlabFunc.__call__\u001b[39m\u001b[34m(self, *args, **kwargs)\u001b[39m\n\u001b[32m     68\u001b[39m     \u001b[38;5;28;01mreturn\u001b[39;00m FutureResult(\u001b[38;5;28mself\u001b[39m._engine(), future, nargs, _stdout, _stderr, feval=\u001b[38;5;28;01mTrue\u001b[39;00m)\n\u001b[32m     69\u001b[39m \u001b[38;5;28;01melse\u001b[39;00m:\n\u001b[32m     70\u001b[39m     \u001b[38;5;28;01mreturn\u001b[39;00m \u001b[43mFutureResult\u001b[49m\u001b[43m(\u001b[49m\u001b[38;5;28;43mself\u001b[39;49m\u001b[43m.\u001b[49m\u001b[43m_engine\u001b[49m\u001b[43m(\u001b[49m\u001b[43m)\u001b[49m\u001b[43m,\u001b[49m\u001b[43m \u001b[49m\u001b[43mfuture\u001b[49m\u001b[43m,\u001b[49m\u001b[43m \u001b[49m\u001b[43mnargs\u001b[49m\u001b[43m,\u001b[49m\u001b[43m \u001b[49m\u001b[43m_stdout\u001b[49m\u001b[43m,\u001b[49m\n\u001b[32m---> \u001b[39m\u001b[32m71\u001b[39m \u001b[43m                        \u001b[49m\u001b[43m_stderr\u001b[49m\u001b[43m,\u001b[49m\u001b[43m \u001b[49m\u001b[43mfeval\u001b[49m\u001b[43m=\u001b[49m\u001b[38;5;28;43;01mTrue\u001b[39;49;00m\u001b[43m)\u001b[49m\u001b[43m.\u001b[49m\u001b[43mresult\u001b[49m\u001b[43m(\u001b[49m\u001b[43m)\u001b[49m\n",
      "\u001b[36mFile \u001b[39m\u001b[32mc:\\Users\\deols\\anaconda3\\envs\\drltest\\Lib\\site-packages\\matlab\\engine\\futureresult.py:62\u001b[39m, in \u001b[36mFutureResult.result\u001b[39m\u001b[34m(self, timeout)\u001b[39m\n\u001b[32m     59\u001b[39m     \u001b[38;5;28;01mif\u001b[39;00m timeout < \u001b[32m0\u001b[39m:\n\u001b[32m     60\u001b[39m         \u001b[38;5;28;01mraise\u001b[39;00m \u001b[38;5;167;01mTypeError\u001b[39;00m(pythonengine.getMessage(\u001b[33m'\u001b[39m\u001b[33mTimeoutCannotBeNegative\u001b[39m\u001b[33m'\u001b[39m))\n\u001b[32m---> \u001b[39m\u001b[32m62\u001b[39m \u001b[38;5;28;01mreturn\u001b[39;00m \u001b[38;5;28;43mself\u001b[39;49m\u001b[43m.\u001b[49m\u001b[43m__future\u001b[49m\u001b[43m.\u001b[49m\u001b[43mresult\u001b[49m\u001b[43m(\u001b[49m\u001b[43mtimeout\u001b[49m\u001b[43m)\u001b[49m\n",
      "\u001b[36mFile \u001b[39m\u001b[32mc:\\Users\\deols\\anaconda3\\envs\\drltest\\Lib\\site-packages\\matlab\\engine\\fevalfuture.py:76\u001b[39m, in \u001b[36mFevalFuture.result\u001b[39m\u001b[34m(self, timeout)\u001b[39m\n\u001b[32m     73\u001b[39m \u001b[38;5;28;01mif\u001b[39;00m \u001b[38;5;129;01mnot\u001b[39;00m result_ready:\n\u001b[32m     74\u001b[39m     \u001b[38;5;28;01mraise\u001b[39;00m \u001b[38;5;167;01mTimeoutError\u001b[39;00m(pythonengine.getMessage(\u001b[33m'\u001b[39m\u001b[33mMatlabFunctionTimeout\u001b[39m\u001b[33m'\u001b[39m))\n\u001b[32m---> \u001b[39m\u001b[32m76\u001b[39m \u001b[38;5;28mself\u001b[39m._result = \u001b[43mpythonengine\u001b[49m\u001b[43m.\u001b[49m\u001b[43mgetFEvalResult\u001b[49m\u001b[43m(\u001b[49m\u001b[38;5;28;43mself\u001b[39;49m\u001b[43m.\u001b[49m\u001b[43m_future\u001b[49m\u001b[43m,\u001b[49m\u001b[38;5;28;43mself\u001b[39;49m\u001b[43m.\u001b[49m\u001b[43m_nargout\u001b[49m\u001b[43m,\u001b[49m\u001b[43m \u001b[49m\u001b[38;5;28;43;01mNone\u001b[39;49;00m\u001b[43m,\u001b[49m\u001b[43m \u001b[49m\u001b[43mout\u001b[49m\u001b[43m=\u001b[49m\u001b[38;5;28;43mself\u001b[39;49m\u001b[43m.\u001b[49m\u001b[43m_out\u001b[49m\u001b[43m,\u001b[49m\u001b[43m \u001b[49m\u001b[43merr\u001b[49m\u001b[43m=\u001b[49m\u001b[38;5;28;43mself\u001b[39;49m\u001b[43m.\u001b[49m\u001b[43m_err\u001b[49m\u001b[43m)\u001b[49m\n\u001b[32m     77\u001b[39m \u001b[38;5;28mself\u001b[39m._retrieved = \u001b[38;5;28;01mTrue\u001b[39;00m\n\u001b[32m     78\u001b[39m \u001b[38;5;28;01mreturn\u001b[39;00m \u001b[38;5;28mself\u001b[39m._result\n",
      "\u001b[31mValueError\u001b[39m: only a scalar struct can be returned from MATLAB"
     ]
    }
   ],
   "source": [
    "eng.workspace['logData']"
   ]
  },
  {
   "cell_type": "code",
   "execution_count": null,
   "id": "bd9567b6",
   "metadata": {},
   "outputs": [
    {
     "data": {
      "text/plain": [
       "{'Melbourne': {'rssi': -103.85695654133828, 'snr': 47.06323447169848},\n",
       " 'Sydney': {'rssi': -104.5419147377656, 'snr': 46.37827627527117}}"
      ]
     },
     "execution_count": 16,
     "metadata": {},
     "output_type": "execute_result"
    }
   ],
   "source": [
    "eng.workspace['reward_data_geo_gs']"
   ]
  },
  {
   "cell_type": "code",
   "execution_count": null,
   "id": "fec74676",
   "metadata": {},
   "outputs": [
    {
     "data": {
      "text/plain": [
       "{'Melbourne': {'rssi': -176.09455199342835, 'snr': -25.17436098039161},\n",
       " 'Sydney': {'rssi': -183.33174225993244, 'snr': -32.4115512468957}}"
      ]
     },
     "execution_count": 17,
     "metadata": {},
     "output_type": "execute_result"
    }
   ],
   "source": [
    "eng.workspace['reward_data_leo_gs']"
   ]
  },
  {
   "cell_type": "code",
   "execution_count": null,
   "id": "fd0e2b92",
   "metadata": {},
   "outputs": [
    {
     "data": {
      "text/plain": [
       "{'LEO_Num': 1.0,\n",
       " 'reward': {'Melbourne': {'rssi': -176.09455199342835,\n",
       "   'snr': -25.17436098039161},\n",
       "  'Sydney': {'rssi': -183.33174225993244, 'snr': -32.4115512468957}}}"
      ]
     },
     "execution_count": 18,
     "metadata": {},
     "output_type": "execute_result"
    }
   ],
   "source": [
    "eng.workspace['reward_data_leo']"
   ]
  },
  {
   "cell_type": "code",
   "execution_count": null,
   "id": "38f456a6",
   "metadata": {},
   "outputs": [
    {
     "name": "stdout",
     "output_type": "stream",
     "text": [
      "{'GeobaseFreq': 1500000000.0, 'time': '10-Apr-2025 12:03:20', 'LEO_1': {'LEO_Num': 1.0, 'Latitude': -52.99087266793843, 'Longitude': 130.42141382607795, 'AccessStatus': {'Melbourne': True, 'Sydney': True}}}\n"
     ]
    }
   ],
   "source": [
    "print(state)"
   ]
  },
  {
   "cell_type": "code",
   "execution_count": null,
   "id": "800dcfac",
   "metadata": {},
   "outputs": [
    {
     "data": {
      "text/plain": [
       "True"
      ]
     },
     "execution_count": 47,
     "metadata": {},
     "output_type": "execute_result"
    }
   ],
   "source": [
    "state['LEO_1']['AccessStatus']['Melbourne']"
   ]
  },
  {
   "cell_type": "code",
   "execution_count": null,
   "id": "2d4ac69e",
   "metadata": {},
   "outputs": [],
   "source": [
    "reward = eng.workspace['reward']"
   ]
  },
  {
   "cell_type": "code",
   "execution_count": null,
   "id": "87b2d78f",
   "metadata": {},
   "outputs": [
    {
     "data": {
      "text/plain": [
       "{'LEO_1': {'LEO_Num': 1.0,\n",
       "  'reward': {'Melbourne': {'rssi': -176.09455199342835,\n",
       "    'snr': -25.17436098039161},\n",
       "   'Sydney': {'rssi': -183.33174225993244, 'snr': -32.4115512468957}}},\n",
       " 'GEO_1': {'GEO_Num': 1.0,\n",
       "  'reward': {'Melbourne': {'rssi': -103.85695654133828,\n",
       "    'snr': 47.06323447169848},\n",
       "   'Sydney': {'rssi': -104.5419147377656, 'snr': 46.37827627527117}}}}"
      ]
     },
     "execution_count": 20,
     "metadata": {},
     "output_type": "execute_result"
    }
   ],
   "source": [
    "reward"
   ]
  },
  {
   "cell_type": "code",
   "execution_count": null,
   "id": "f3427cc5",
   "metadata": {},
   "outputs": [
    {
     "data": {
      "text/plain": [
       "-25.17436098039161"
      ]
     },
     "execution_count": 48,
     "metadata": {},
     "output_type": "execute_result"
    }
   ],
   "source": [
    "reward[\"LEO_1\"]['reward']['Melbourne']['snr']"
   ]
  },
  {
   "cell_type": "code",
   "execution_count": null,
   "id": "3fa50340",
   "metadata": {},
   "outputs": [
    {
     "data": {
      "text/plain": [
       "{'Melbourne': {'rssi': -176.09455199342835, 'snr': -25.17436098039161},\n",
       " 'Sydney': {'rssi': -183.33174225993244, 'snr': -32.4115512468957}}"
      ]
     },
     "execution_count": 44,
     "metadata": {},
     "output_type": "execute_result"
    }
   ],
   "source": [
    "reward[\"LEO_1\"]['reward']"
   ]
  },
  {
   "cell_type": "code",
   "execution_count": null,
   "id": "cdc698fe",
   "metadata": {},
   "outputs": [
    {
     "data": {
      "text/plain": [
       "array(-25.17436098)"
      ]
     },
     "execution_count": 22,
     "metadata": {},
     "output_type": "execute_result"
    }
   ],
   "source": [
    "np.array(reward[\"LEO_1\"]['reward']['Melbourne']['snr'])"
   ]
  },
  {
   "cell_type": "code",
   "execution_count": null,
   "id": "98900b15",
   "metadata": {},
   "outputs": [
    {
     "data": {
      "text/plain": [
       "-25.17436098039161"
      ]
     },
     "execution_count": 23,
     "metadata": {},
     "output_type": "execute_result"
    }
   ],
   "source": [
    "eng.eval(\"reward.('LEO_1').('reward').('Melbourne').('snr')\")"
   ]
  },
  {
   "cell_type": "code",
   "execution_count": null,
   "id": "73f345b5",
   "metadata": {},
   "outputs": [],
   "source": [
    "snr_value = eng.eval(\"reward.('LEO_1').('reward').('Melbourne').('snr')\")\n"
   ]
  },
  {
   "cell_type": "code",
   "execution_count": null,
   "id": "2edd2367",
   "metadata": {},
   "outputs": [
    {
     "name": "stdout",
     "output_type": "stream",
     "text": [
      "<class 'float'>\n",
      "-25.17436098039161\n"
     ]
    }
   ],
   "source": [
    "print(type(snr_value))  # Should be something like <class 'matlab.double'>\n",
    "print(snr_value)\n"
   ]
  },
  {
   "cell_type": "code",
   "execution_count": null,
   "id": "5fee4ff5",
   "metadata": {},
   "outputs": [
    {
     "name": "stdout",
     "output_type": "stream",
     "text": [
      "{'GeobaseFreq': 1500000000.0, 'time': '10-Apr-2025 12:03:20', 'LEO_1': {'LEO_Num': 1.0, 'Latitude': -52.99087266793843, 'Longitude': 130.42141382607795, 'AccessStatus': {'Melbourne': True, 'Sydney': True}}}\n",
      "{'LEO_1': {'LEO_Num': 1.0, 'reward': {'Melbourne': {'rssi': -176.09455199342835, 'snr': -25.17436098039161}, 'Sydney': {'rssi': -183.33174225993244, 'snr': -32.4115512468957}}}, 'GEO_1': {'GEO_Num': 1.0, 'reward': {'Melbourne': {'rssi': -103.85695654133828, 'snr': 47.06323447169848}, 'Sydney': {'rssi': -104.5419147377656, 'snr': 46.37827627527117}}}}\n"
     ]
    }
   ],
   "source": [
    "print(state)\n",
    "print(reward)"
   ]
  },
  {
   "cell_type": "code",
   "execution_count": null,
   "id": "7248a9aa",
   "metadata": {},
   "outputs": [
    {
     "name": "stdout",
     "output_type": "stream",
     "text": [
      "Correct SNR: -25.17436098039161\n"
     ]
    }
   ],
   "source": [
    "import numpy as np\n",
    "\n",
    "if isinstance(snr_value, list):  # likely [[value]]\n",
    "    snr_array = np.array(snr_value)\n",
    "    snr_scalar = snr_array.item()\n",
    "else:\n",
    "    snr_scalar = float(snr_value)\n",
    "\n",
    "print(\"Correct SNR:\", snr_scalar)\n"
   ]
  },
  {
   "cell_type": "code",
   "execution_count": null,
   "id": "8700f13b",
   "metadata": {},
   "outputs": [
    {
     "name": "stdout",
     "output_type": "stream",
     "text": [
      "SNR (via string conversion): -25.1744\n"
     ]
    }
   ],
   "source": [
    "# In MATLAB via Python, convert SNR to string\n",
    "eng.eval(\"temp_snr_str = num2str(reward.('LEO_1').('reward').('Melbourne').('snr'));\", nargout=0)\n",
    "\n",
    "# Pull the string into Python\n",
    "snr_str = eng.workspace[\"temp_snr_str\"]\n",
    "snr_value = float(snr_str)\n",
    "\n",
    "print(\"SNR (via string conversion):\", snr_value)\n"
   ]
  },
  {
   "cell_type": "code",
   "execution_count": null,
   "id": "511402f6",
   "metadata": {},
   "outputs": [
    {
     "name": "stdout",
     "output_type": "stream",
     "text": [
      "Type: <class 'float'>\n",
      "Raw value: -25.17436098039161\n"
     ]
    }
   ],
   "source": [
    "eng.eval(\"temp_snr = reward.('LEO_1').('reward').('Melbourne').('snr');\", nargout=0)\n",
    "raw_value = eng.workspace[\"temp_snr\"]\n",
    "\n",
    "print(\"Type:\", type(raw_value))\n",
    "print(\"Raw value:\", raw_value)\n"
   ]
  },
  {
   "cell_type": "code",
   "execution_count": null,
   "id": "8fce99fb",
   "metadata": {},
   "outputs": [],
   "source": [
    "import gymnasium as gym"
   ]
  },
  {
   "cell_type": "code",
   "execution_count": null,
   "id": "fa0ed69c",
   "metadata": {},
   "outputs": [
    {
     "data": {
      "text/plain": [
       "{'GeobaseFreq': 1500000000.0,\n",
       " 'time': '10-Apr-2025 12:03:20',\n",
       " 'LEO_1': {'LEO_Num': 1.0,\n",
       "  'Latitude': -52.99087266793843,\n",
       "  'Longitude': 130.42141382607795,\n",
       "  'AccessStatus': {'Melbourne': True, 'Sydney': True}}}"
      ]
     },
     "execution_count": 31,
     "metadata": {},
     "output_type": "execute_result"
    }
   ],
   "source": [
    "state"
   ]
  },
  {
   "cell_type": "code",
   "execution_count": null,
   "id": "a0340046",
   "metadata": {},
   "outputs": [],
   "source": [
    "from gymnasium.spaces import MultiDiscrete, Dict, Box"
   ]
  },
  {
   "cell_type": "code",
   "execution_count": null,
   "id": "677026fb",
   "metadata": {},
   "outputs": [],
   "source": [
    "observation_space = Dict({\n",
    "            \"utc_time\": Box(low=-np.inf, high=np.inf, shape=(1,), dtype=np.int64),\n",
    "            \"leo_pos\": Box(low=-np.inf, high=np.inf, shape=(leoNum *2,), dtype=np.float64),\n",
    "            \"geo_freq\": Box(low=-np.inf, high=np.inf, shape=(geoNum,), dtype=np.float64),\n",
    "            \"leo_freq\": Box(low=-np.inf, high=np.inf, shape=(leoNum,), dtype=np.float64),\n",
    "            \"leo_access\": Box(low=0, high=1, shape=(leoNum* nuser,), dtype=np.float64),\n",
    "        })"
   ]
  },
  {
   "cell_type": "code",
   "execution_count": null,
   "id": "3634378a",
   "metadata": {},
   "outputs": [],
   "source": [
    "def convert_matlab_state_to_py_state(cur_state_from_matlab=None):\n",
    "    # Log cur_state_from_matlab\n",
    "    logging.info(\"=== Current State ===\")\n",
    "    logging.info(json.dumps(cur_state_from_matlab, indent=2))\n",
    "    \"\"\"Reset the environment and initialize the buffer.\"\"\"\n",
    "    global cur_obs\n",
    "    global step_count\n",
    "    step_count = 0\n",
    "    from datetime import datetime, timezone\n",
    "\n",
    "    # 1. utc_time (convert string to UNIX timestamp in seconds)\n",
    "    dt = datetime.strptime(cur_state_from_matlab[\"time\"], \"%d-%b-%Y %H:%M:%S\")\n",
    "    utc_timestamp = int(dt.timestamp())\n",
    "    cur_obs[\"utc_time\"] = np.array([utc_timestamp], dtype=np.int64)\n",
    "\n",
    "    # 2. leo_pos (interleaved lat/lon)\n",
    "    leo_pos = []\n",
    "    for i in range(1, leoNum + 1):\n",
    "        leo = cur_state_from_matlab[f\"LEO_{i}\"]\n",
    "        leo_pos.extend([leo[\"Latitude\"], leo[\"Longitude\"]])\n",
    "    cur_obs[\"leo_pos\"] = np.array(leo_pos, dtype=np.float64)\n",
    "\n",
    "    # 3. geo_freq\n",
    "    cur_obs[\"geo_freq\"] = np.array([cur_state_from_matlab[\"GeobaseFreq\"]], dtype=np.float64)\n",
    "\n",
    "    # 4. leo_freq (not in cur_state_from_matlab — fill with zeros or placeholder)\n",
    "    cur_obs[\"leo_freq\"] = np.zeros(leoNum, dtype=np.float64)\n",
    "\n",
    "    # 5. leo_access (flattened [LEO1_Melb, LEO1_Syd, LEO2_Melb, ..., LEO3_Syd])\n",
    "    leo_access = []\n",
    "    for i in range(1, leoNum + 1):\n",
    "        access = cur_state_from_matlab[f\"LEO_{i}\"][\"AccessStatus\"]\n",
    "        leo_access.extend([\n",
    "            float(access[\"Melbourne\"]),\n",
    "            float(access[\"Sydney\"])\n",
    "        ])\n",
    "    cur_obs[\"leo_access\"] = np.array(leo_access, dtype=np.float64)\n",
    "\n",
    "    # (Optional) Validate against observation_space\n",
    "    assert observation_space.contains(cur_obs), \"cur_obs doesn't match the observation space!\"\n",
    "\n",
    "    return cur_obs"
   ]
  },
  {
   "cell_type": "code",
   "execution_count": null,
   "id": "0988baa9",
   "metadata": {},
   "outputs": [],
   "source": [
    "cur_obs = None"
   ]
  },
  {
   "cell_type": "code",
   "execution_count": null,
   "id": "04fe2ba3",
   "metadata": {},
   "outputs": [],
   "source": [
    "intial_obs = {\n",
    "    \"utc_time\": np.array([0], dtype=np.int64),\n",
    "    \"leo_pos\": np.random.randn(leoNum * 2).astype(np.float64),  # e.g., [x1, y1, x2, y2, x3, y3]\n",
    "    \"geo_freq\": np.random.uniform(10.5, 12.0, size=(geoNum,)).astype(np.float64),\n",
    "    \"leo_freq\": np.random.uniform(20.0, 22.0, size=(leoNum,)).astype(np.float64),\n",
    "    \"leo_access\": np.random.randint(0, 2, size=(leoNum * nuser,)).astype(np.float64),\n",
    "} "
   ]
  },
  {
   "cell_type": "code",
   "execution_count": null,
   "id": "e03524ad",
   "metadata": {},
   "outputs": [],
   "source": [
    "cur_obs = intial_obs.copy() if cur_obs is None else intial_obs.copy()"
   ]
  },
  {
   "cell_type": "code",
   "execution_count": null,
   "id": "df781d55",
   "metadata": {},
   "outputs": [
    {
     "data": {
      "text/plain": [
       "{'utc_time': array([1744250600], dtype=int64),\n",
       " 'leo_pos': array([-52.99087267, 130.42141383]),\n",
       " 'geo_freq': array([1.5e+09]),\n",
       " 'leo_freq': array([0.]),\n",
       " 'leo_access': array([1., 1.])}"
      ]
     },
     "execution_count": 38,
     "metadata": {},
     "output_type": "execute_result"
    }
   ],
   "source": [
    "convert_matlab_state_to_py_state(state)"
   ]
  },
  {
   "cell_type": "code",
   "execution_count": null,
   "id": "95b73d94",
   "metadata": {},
   "outputs": [
    {
     "data": {
      "text/plain": [
       "False"
      ]
     },
     "execution_count": 39,
     "metadata": {},
     "output_type": "execute_result"
    }
   ],
   "source": [
    "eng.workspace['done']"
   ]
  },
  {
   "cell_type": "code",
   "execution_count": null,
   "id": "a04074b0",
   "metadata": {},
   "outputs": [
    {
     "data": {
      "text/plain": [
       "{'LEO_1': {'LEO_Num': 1.0,\n",
       "  'reward': {'Melbourne': {'rssi': -176.09455199342835,\n",
       "    'snr': -25.17436098039161},\n",
       "   'Sydney': {'rssi': -183.33174225993244, 'snr': -32.4115512468957}}},\n",
       " 'GEO_1': {'GEO_Num': 1.0,\n",
       "  'reward': {'Melbourne': {'rssi': -103.85695654133828,\n",
       "    'snr': 47.06323447169848},\n",
       "   'Sydney': {'rssi': -104.5419147377656, 'snr': 46.37827627527117}}}}"
      ]
     },
     "execution_count": 40,
     "metadata": {},
     "output_type": "execute_result"
    }
   ],
   "source": [
    "eng.workspace['reward']"
   ]
  },
  {
   "cell_type": "code",
   "execution_count": null,
   "id": "86f268b7",
   "metadata": {},
   "outputs": [],
   "source": []
  },
  {
   "cell_type": "code",
   "execution_count": null,
   "id": "accbebf8",
   "metadata": {},
   "outputs": [],
   "source": [
    "channelFreqs = eng.workspace['channelFreqs']"
   ]
  },
  {
   "cell_type": "code",
   "execution_count": null,
   "id": "5b5ff048",
   "metadata": {},
   "outputs": [
    {
     "data": {
      "text/plain": [
       "matlab.double([1498875000.0,1500125000.0,1500375000.0,1500625000.0,1500875000.0,1501125000.0,1501375000.0,1501625000.0,1501875000.0,1502125000.0])"
      ]
     },
     "execution_count": 42,
     "metadata": {},
     "output_type": "execute_result"
    }
   ],
   "source": [
    "channelFreqs[0]"
   ]
  }
 ],
 "metadata": {
  "kernelspec": {
   "display_name": "cogsat",
   "language": "python",
   "name": "python3"
  },
  "language_info": {
   "codemirror_mode": {
    "name": "ipython",
    "version": 3
   },
   "file_extension": ".py",
   "mimetype": "text/x-python",
   "name": "python",
   "nbconvert_exporter": "python",
   "pygments_lexer": "ipython3",
   "version": "3.12.9"
  }
 },
 "nbformat": 4,
 "nbformat_minor": 5
}
