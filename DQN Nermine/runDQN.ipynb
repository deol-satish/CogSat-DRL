{
 "cells": [
  {
   "cell_type": "markdown",
   "id": "27ad70fa",
   "metadata": {},
   "source": [
    "### DQN"
   ]
  },
  {
   "cell_type": "code",
   "execution_count": 1,
   "id": "5ab8c27d",
   "metadata": {},
   "outputs": [],
   "source": [
    "import gymnasium\n",
    "from stable_baselines3 import DQN\n",
    "from stable_baselines3.common.env_util import DummyVecEnv\n",
    "from stable_baselines3.common.callbacks import CheckpointCallback\n",
    "from stable_baselines3.common.env_checker import check_env\n",
    "from stable_baselines3.common.evaluation import evaluate_policy\n",
    "from utils.env import CogSatEnv\n"
   ]
  },
  {
   "cell_type": "code",
   "execution_count": 2,
   "id": "b9b74388",
   "metadata": {},
   "outputs": [
    {
     "name": "stdout",
     "output_type": "stream",
     "text": [
      "Using environment: NermineCogSatEnv-v1\n"
     ]
    }
   ],
   "source": [
    "from utils.env import env_name\n",
    "print(f\"Using environment: {env_name}\")"
   ]
  },
  {
   "cell_type": "code",
   "execution_count": 3,
   "id": "1644e8c8",
   "metadata": {},
   "outputs": [],
   "source": [
    "\n",
    "import os\n",
    "os.environ[\"KMP_DUPLICATE_LIB_OK\"] = \"TRUE\"\n",
    "\n",
    "# set the seed\n",
    "seed = 42\n",
    "\n",
    "gymnasium.register(\n",
    "    id='CogSatEnv-v1',  # Use the same ID here as you used in the script\n",
    "    entry_point='env:CogSatEnv',\n",
    ")\n",
    "\n",
    "# Initialize the environment\n",
    "env_id = \"CogSatEnv-v1\"\n",
    "env = CogSatEnv()"
   ]
  },
  {
   "cell_type": "code",
   "execution_count": 4,
   "id": "cf7598fc",
   "metadata": {},
   "outputs": [
    {
     "name": "stdout",
     "output_type": "stream",
     "text": [
      "++++===== ENV RESET+++===\n"
     ]
    },
    {
     "data": {
      "text/plain": [
       "({'utc_time': array([1744250400], dtype=int64),\n",
       "  'freq_lgs_leo': array([13.,  1., 14.,  1., 14., 13.,  6., 14.,  7., 14.]),\n",
       "  'freq_ggs_geo': array([ 2.,  5.,  8.,  9.,  1.,  7.,  6.,  3.,  4., 10.])},\n",
       " {})"
      ]
     },
     "execution_count": 4,
     "metadata": {},
     "output_type": "execute_result"
    }
   ],
   "source": [
    "env.reset(seed=seed)  # Reset the environment with the seed"
   ]
  },
  {
   "cell_type": "code",
   "execution_count": 5,
   "id": "7c2b0884",
   "metadata": {},
   "outputs": [
    {
     "data": {
      "text/plain": [
       "{'utc_time': array([0], dtype=int64),\n",
       " 'freq_lgs_leo': array([20.72350111, 20.93542428, 20.2704186 , 21.92923927, 20.52469689,\n",
       "        21.63208769, 21.77370558, 21.36014224, 20.99820695, 21.48747991]),\n",
       " 'freq_ggs_geo': array([21.9374196 , 21.37202516, 20.74557307, 20.63565233, 21.23009371,\n",
       "        21.02947991, 21.24959189, 21.25677718, 21.0467088 , 21.903055  ])}"
      ]
     },
     "execution_count": 5,
     "metadata": {},
     "output_type": "execute_result"
    }
   ],
   "source": [
    "env.intial_obs"
   ]
  },
  {
   "cell_type": "code",
   "execution_count": 6,
   "id": "65a7e381",
   "metadata": {},
   "outputs": [],
   "source": [
    "dummy_env = DummyVecEnv([lambda: env])  # Wrap the environment with DummyVecEnv"
   ]
  },
  {
   "cell_type": "code",
   "execution_count": null,
   "id": "77d01854",
   "metadata": {},
   "outputs": [
    {
     "name": "stdout",
     "output_type": "stream",
     "text": [
      "++++===== ENV RESET+++===\n",
      "++++===== ENV RESET+++===\n",
      "*-*-*-*-*-*-*-*-*-*-*-*-*-*-*-*-*-*-*-*-*-*-*-*-*-*-*-*-*-*-*-*-*-*-*-*-*-*-*-*-*-*-*-*-*-*-*-*-*-*-\n",
      "Step Started\n",
      "Action taken:  2\n",
      "Current LEO User ID:  0\n",
      "self.tIndex:  0\n",
      "Current LEO Satellite ID:  583\n",
      "Updated ChannelListLeo:  2.0\n",
      "Next Observation:  {'utc_time': array([1744250400], dtype=int64), 'freq_lgs_leo': array([ 2.,  6.,  2.,  1.,  5.,  1.,  5., 13.,  8.,  3.]), 'freq_ggs_geo': array([ 6.,  7.,  9., 10.,  4.,  2.,  3.,  8.,  5.,  1.])}\n",
      "SINR[:,self.tIndex]:  [-6.32873319 -2.59134506 -7.14761251 -5.38927408 -7.33616857 -7.55214991\n",
      " -6.25448873 -6.0028467  -4.69434058 -8.31473457 -4.45024485 -2.01230767\n",
      " -6.31963908 -6.21705849 -1.4946837  -6.89623708 -3.92703562 -6.02203655\n",
      " -5.47694978 -7.10600672]\n",
      "Reward:  -111.53389343460168\n",
      "*-*-*-*-*-*-*-*-*-*-*-*-*-*-*-*-*-*-*-*-*-*-*-*-*-*-*-*-*-*-*-*-*-*-*-*-*-*-*-*-*-*-*-*-*-*-*-*-*-*-\n"
     ]
    }
   ],
   "source": [
    "\n",
    "epoch_length = 180 ## got through experiment\n",
    "epoch_numbers = 100\n",
    "\n",
    "total_steps = epoch_length * epoch_numbers\n",
    "\n",
    "# Optional: Check the environment\n",
    "check_env(env, warn=True)\n",
    "\n",
    "# Instantiate the model\n",
    "model = DQN(\n",
    "    policy=\"MultiInputPolicy\",\n",
    "    env=env,\n",
    "    learning_rate=1e-4,\n",
    "    buffer_size=50000,\n",
    "    learning_starts=10,\n",
    "    batch_size=16,\n",
    "    tau=1.0,\n",
    "    gamma=0.99,\n",
    "    train_freq=4,\n",
    "    target_update_interval=10,\n",
    "    verbose=1\n",
    ")\n",
    "\n",
    "# Train the agent\n",
    "model.learn(total_timesteps=total_steps)\n",
    "# measure perofmance of training\n",
    "# Save the model\n",
    "model.save(\"dqn_cogsat\")\n",
    "env.close()\n",
    "\n",
    "\n"
   ]
  },
  {
   "cell_type": "code",
   "execution_count": null,
   "id": "9edb1e59",
   "metadata": {},
   "outputs": [],
   "source": [
    "# Run it in sepratae file\n",
    "# Evaluate the agent\n",
    "mean_reward, std_reward = evaluate_policy(model, env, n_eval_episodes=10)\n",
    "print(f\"Mean reward: {mean_reward} +/- {std_reward}\")"
   ]
  }
 ],
 "metadata": {
  "kernelspec": {
   "display_name": "cogsat",
   "language": "python",
   "name": "python3"
  },
  "language_info": {
   "codemirror_mode": {
    "name": "ipython",
    "version": 3
   },
   "file_extension": ".py",
   "mimetype": "text/x-python",
   "name": "python",
   "nbconvert_exporter": "python",
   "pygments_lexer": "ipython3",
   "version": "3.12.9"
  }
 },
 "nbformat": 4,
 "nbformat_minor": 5
}
