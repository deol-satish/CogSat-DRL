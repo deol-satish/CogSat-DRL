{
 "cells": [
  {
   "cell_type": "code",
   "execution_count": 100,
   "id": "410c55d9",
   "metadata": {},
   "outputs": [
    {
     "name": "stderr",
     "output_type": "stream",
     "text": [
      "DEBUG:root:Column name: GEO1_Freq_Hz, Type: int64, Unique values: 1, Sample values: [1500000000]\n",
      "DEBUG:root:Unique values: [1500000000]\n",
      "DEBUG:root:Column name: LEO1_Freq_Hz, Type: int64, Unique values: 11, Sample values: [1500375000 1501875000]\n",
      "DEBUG:root:Unique values: [0, 1498875000, 1500125000, 1500375000, 1500625000, 1500875000, 1501125000, 1501375000, 1501625000, 1501875000, 1502125000]\n",
      "DEBUG:root:Column name: LEO2_Freq_Hz, Type: int64, Unique values: 11, Sample values: [1498875000 1500625000]\n",
      "DEBUG:root:Unique values: [0, 1498875000, 1500125000, 1500375000, 1500625000, 1500875000, 1501125000, 1501375000, 1501625000, 1501875000, 1502125000]\n",
      "DEBUG:root:Column name: LEO3_Freq_Hz, Type: int64, Unique values: 11, Sample values: [1502125000 1500125000]\n",
      "DEBUG:root:Unique values: [0, 1498875000, 1500125000, 1500375000, 1500625000, 1500875000, 1501125000, 1501375000, 1501625000, 1501875000, 1502125000]\n",
      "DEBUG:root:True\n",
      "DEBUG:root:Column name: Time, Type: int64, Unique values: 182, Sample values: [1744286400000000000 1744286410000000000]\n",
      "DEBUG:root:Column name: GEO1_Name, Type: object, Unique values: 1, Sample values: ['GEO-1']\n",
      "DEBUG:root:Column name: GEO1_Lat, Type: float64, Unique values: 182, Sample values: [-0.13162565 -0.13166232]\n",
      "DEBUG:root:Column name: GEO1_Lon, Type: float64, Unique values: 182, Sample values: [141.35228982 141.35230063]\n",
      "DEBUG:root:Column name: GEO1_Freq_Hz, Type: float64, Unique values: 0, Sample values: [nan]\n",
      "DEBUG:root:Column name: GEO1_Melbourne_Access, Type: int64, Unique values: 2, Sample values: [1 0]\n",
      "DEBUG:root:Column name: GEO1_Melbourne_SNR_dB, Type: float64, Unique values: 181, Sample values: [47.06321418 47.06321521]\n",
      "DEBUG:root:Column name: GEO1_Melbourne_RSSI_dBm, Type: float64, Unique values: 181, Sample values: [-103.85697683 -103.8569758 ]\n",
      "DEBUG:root:Column name: GEO1_Sydney_Access, Type: int64, Unique values: 2, Sample values: [1 0]\n",
      "DEBUG:root:Column name: GEO1_Sydney_SNR_dB, Type: float64, Unique values: 181, Sample values: [46.37825821 46.37825913]\n",
      "DEBUG:root:Column name: GEO1_Sydney_RSSI_dBm, Type: float64, Unique values: 181, Sample values: [-104.5419328  -104.54193188]\n",
      "DEBUG:root:Column name: LEO1_Name, Type: object, Unique values: 1, Sample values: ['LEO-1']\n",
      "DEBUG:root:Column name: LEO1_Lat, Type: float64, Unique values: 182, Sample values: [-65.25349693 -64.64100767]\n",
      "DEBUG:root:Column name: LEO1_Lon, Type: float64, Unique values: 182, Sample values: [131.19641504 131.15892198]\n",
      "DEBUG:root:Column name: LEO1_Freq_Hz, Type: int64, Unique values: 11, Sample values: [3 9]\n",
      "DEBUG:root:Column name: LEO1_Melbourne_Access, Type: int64, Unique values: 2, Sample values: [0 1]\n",
      "DEBUG:root:Column name: LEO1_Melbourne_SNR_dB, Type: float64, Unique values: 70, Sample values: [         nan -31.58700302]\n",
      "DEBUG:root:Column name: LEO1_Melbourne_RSSI_dBm, Type: float64, Unique values: 70, Sample values: [          nan -182.50719403]\n",
      "DEBUG:root:Column name: LEO1_Sydney_Access, Type: int64, Unique values: 2, Sample values: [0 1]\n",
      "DEBUG:root:Column name: LEO1_Sydney_SNR_dB, Type: float64, Unique values: 55, Sample values: [        nan -32.4180364]\n",
      "DEBUG:root:Column name: LEO1_Sydney_RSSI_dBm, Type: float64, Unique values: 55, Sample values: [          nan -183.33822741]\n",
      "DEBUG:root:Column name: LEO2_Name, Type: object, Unique values: 1, Sample values: ['LEO-2']\n",
      "DEBUG:root:Column name: LEO2_Lat, Type: float64, Unique values: 182, Sample values: [-65.26423381 -64.65174424]\n",
      "DEBUG:root:Column name: LEO2_Lon, Type: float64, Unique values: 182, Sample values: [141.24393291 141.20513432]\n",
      "DEBUG:root:Column name: LEO2_Freq_Hz, Type: int64, Unique values: 11, Sample values: [1 4]\n",
      "DEBUG:root:Column name: LEO2_Melbourne_Access, Type: int64, Unique values: 2, Sample values: [0 1]\n",
      "DEBUG:root:Column name: LEO2_Melbourne_SNR_dB, Type: float64, Unique values: 79, Sample values: [         nan -71.83140154]\n",
      "DEBUG:root:Column name: LEO2_Melbourne_RSSI_dBm, Type: float64, Unique values: 79, Sample values: [          nan -222.75159255]\n",
      "DEBUG:root:Column name: LEO2_Sydney_Access, Type: int64, Unique values: 2, Sample values: [0 1]\n",
      "DEBUG:root:Column name: LEO2_Sydney_SNR_dB, Type: float64, Unique values: 73, Sample values: [         nan -76.13746041]\n",
      "DEBUG:root:Column name: LEO2_Sydney_RSSI_dBm, Type: float64, Unique values: 73, Sample values: [          nan -227.05765142]\n",
      "DEBUG:root:Column name: LEO3_Name, Type: object, Unique values: 1, Sample values: ['LEO-3']\n",
      "DEBUG:root:Column name: LEO3_Lat, Type: float64, Unique values: 182, Sample values: [-65.27097446 -64.65848463]\n",
      "DEBUG:root:Column name: LEO3_Lon, Type: float64, Unique values: 182, Sample values: [151.2947987  151.25460132]\n",
      "DEBUG:root:Column name: LEO3_Freq_Hz, Type: int64, Unique values: 11, Sample values: [10  2]\n",
      "DEBUG:root:Column name: LEO3_Melbourne_Access, Type: int64, Unique values: 2, Sample values: [0 1]\n",
      "DEBUG:root:Column name: LEO3_Melbourne_SNR_dB, Type: float64, Unique values: 68, Sample values: [          nan -201.49901612]\n",
      "DEBUG:root:Column name: LEO3_Melbourne_RSSI_dBm, Type: float64, Unique values: 68, Sample values: [          nan -352.41920714]\n",
      "DEBUG:root:Column name: LEO3_Sydney_Access, Type: int64, Unique values: 2, Sample values: [0 1]\n",
      "DEBUG:root:Column name: LEO3_Sydney_SNR_dB, Type: float64, Unique values: 80, Sample values: [          nan -213.56577604]\n",
      "DEBUG:root:Column name: LEO3_Sydney_RSSI_dBm, Type: float64, Unique values: 80, Sample values: [          nan -364.48596705]\n",
      "DEBUG:root:Columns containing any of the specified strings:\n",
      "DEBUG:root:['Time', 'GEO1_Melbourne_SNR_dB', 'GEO1_Melbourne_RSSI_dBm', 'GEO1_Sydney_SNR_dB', 'GEO1_Sydney_RSSI_dBm', 'LEO1_Lat', 'LEO1_Lon', 'LEO1_Melbourne_SNR_dB', 'LEO1_Melbourne_RSSI_dBm', 'LEO1_Sydney_SNR_dB', 'LEO1_Sydney_RSSI_dBm', 'LEO2_Lat', 'LEO2_Lon', 'LEO2_Melbourne_SNR_dB', 'LEO2_Melbourne_RSSI_dBm', 'LEO2_Sydney_SNR_dB', 'LEO2_Sydney_RSSI_dBm', 'LEO3_Lat', 'LEO3_Lon', 'LEO3_Melbourne_SNR_dB', 'LEO3_Melbourne_RSSI_dBm', 'LEO3_Sydney_SNR_dB', 'LEO3_Sydney_RSSI_dBm']\n",
      "DEBUG:root:New DataFrame with selected columns:\n",
      "DEBUG:root:                  Time  GEO1_Melbourne_SNR_dB  GEO1_Melbourne_RSSI_dBm  \\\n",
      "0  1744286400000000000              47.063214              -103.856977   \n",
      "1  1744286410000000000              47.063215              -103.856976   \n",
      "2  1744286420000000000              47.063216              -103.856975   \n",
      "3  1744286430000000000              47.063217              -103.856974   \n",
      "4  1744286440000000000              47.063218              -103.856973   \n",
      "\n",
      "   GEO1_Sydney_SNR_dB  GEO1_Sydney_RSSI_dBm   LEO1_Lat    LEO1_Lon  \\\n",
      "0           46.378258           -104.541933 -65.253497  131.196415   \n",
      "1           46.378259           -104.541932 -64.641008  131.158922   \n",
      "2           46.378260           -104.541931 -64.028457  131.121240   \n",
      "3           46.378261           -104.541930 -63.415842  131.083383   \n",
      "4           46.378262           -104.541929 -62.803164  131.045361   \n",
      "\n",
      "   LEO1_Melbourne_SNR_dB  LEO1_Melbourne_RSSI_dBm  LEO1_Sydney_SNR_dB  ...  \\\n",
      "0                    NaN                      NaN                 NaN  ...   \n",
      "1                    NaN                      NaN                 NaN  ...   \n",
      "2                    NaN                      NaN                 NaN  ...   \n",
      "3                    NaN                      NaN                 NaN  ...   \n",
      "4                    NaN                      NaN                 NaN  ...   \n",
      "\n",
      "   LEO2_Melbourne_SNR_dB  LEO2_Melbourne_RSSI_dBm  LEO2_Sydney_SNR_dB  \\\n",
      "0                    NaN                      NaN                 NaN   \n",
      "1                    NaN                      NaN                 NaN   \n",
      "2                    NaN                      NaN                 NaN   \n",
      "3                    NaN                      NaN                 NaN   \n",
      "4                    NaN                      NaN                 NaN   \n",
      "\n",
      "   LEO2_Sydney_RSSI_dBm   LEO3_Lat    LEO3_Lon  LEO3_Melbourne_SNR_dB  \\\n",
      "0                   NaN -65.270974  151.294799                    NaN   \n",
      "1                   NaN -64.658485  151.254601                    NaN   \n",
      "2                   NaN -64.045933  151.214334                    NaN   \n",
      "3                   NaN -63.433319  151.174002                    NaN   \n",
      "4                   NaN -62.820640  151.133609                    NaN   \n",
      "\n",
      "   LEO3_Melbourne_RSSI_dBm  LEO3_Sydney_SNR_dB  LEO3_Sydney_RSSI_dBm  \n",
      "0                      NaN                 NaN                   NaN  \n",
      "1                      NaN                 NaN                   NaN  \n",
      "2                      NaN                 NaN                   NaN  \n",
      "3                      NaN                 NaN                   NaN  \n",
      "4                      NaN                 NaN                   NaN  \n",
      "\n",
      "[5 rows x 23 columns]\n"
     ]
    }
   ],
   "source": [
    "import pandas as pd\n",
    "import numpy as np\n",
    "import os\n",
    "import sys\n",
    "import geohash2 as geohash\n",
    "from utils.df_preprocess import get_df_processed\n",
    "\n",
    "df_obs_space = get_df_processed()"
   ]
  },
  {
   "cell_type": "code",
   "execution_count": 101,
   "id": "e8db54aa",
   "metadata": {},
   "outputs": [],
   "source": [
    "# # Encode into geohash\n",
    "# leo1_geohash = geohash.encode(leo1_lat.item(), leo1_lon.item())"
   ]
  },
  {
   "cell_type": "code",
   "execution_count": 103,
   "id": "577f4a27",
   "metadata": {},
   "outputs": [
    {
     "data": {
      "text/plain": [
       "Index(['Time', 'GEO1_Melbourne_SNR_dB', 'GEO1_Melbourne_RSSI_dBm',\n",
       "       'GEO1_Sydney_SNR_dB', 'GEO1_Sydney_RSSI_dBm', 'LEO1_Lat', 'LEO1_Lon',\n",
       "       'LEO1_Melbourne_SNR_dB', 'LEO1_Melbourne_RSSI_dBm',\n",
       "       'LEO1_Sydney_SNR_dB', 'LEO1_Sydney_RSSI_dBm', 'LEO2_Lat', 'LEO2_Lon',\n",
       "       'LEO2_Melbourne_SNR_dB', 'LEO2_Melbourne_RSSI_dBm',\n",
       "       'LEO2_Sydney_SNR_dB', 'LEO2_Sydney_RSSI_dBm', 'LEO3_Lat', 'LEO3_Lon',\n",
       "       'LEO3_Melbourne_SNR_dB', 'LEO3_Melbourne_RSSI_dBm',\n",
       "       'LEO3_Sydney_SNR_dB', 'LEO3_Sydney_RSSI_dBm'],\n",
       "      dtype='object')"
      ]
     },
     "execution_count": 103,
     "metadata": {},
     "output_type": "execute_result"
    }
   ],
   "source": [
    "df_obs_space.columns"
   ]
  },
  {
   "cell_type": "code",
   "execution_count": 104,
   "id": "d59a4138",
   "metadata": {},
   "outputs": [],
   "source": [
    "import pandas as pd\n",
    "import numpy as np\n",
    "\n",
    "def parse_satellite_data(row):\n",
    "    leo_data = {}\n",
    "    geo_data = {}\n",
    "\n",
    "    for col in row.index:\n",
    "        if col.startswith(\"LEO\"):\n",
    "            parts = col.split('_')\n",
    "            sat_id = int(parts[0].replace(\"LEO\", \"\"))\n",
    "            field = parts[1]\n",
    "            \n",
    "            if field in [\"Lat\", \"Lon\"]:\n",
    "                if sat_id not in leo_data:\n",
    "                    leo_data[sat_id] = {'lat': None, 'lon': None, 'GS_metrics': {}}\n",
    "                leo_data[sat_id][field.lower()] = row[col]\n",
    "            else:\n",
    "                gs_location = field\n",
    "                metric = parts[2]\n",
    "                if sat_id not in leo_data:\n",
    "                    leo_data[sat_id] = {'lat': None, 'lon': None, 'GS_metrics': {}}\n",
    "                if gs_location not in leo_data[sat_id]['GS_metrics']:\n",
    "                    leo_data[sat_id]['GS_metrics'][gs_location] = {}\n",
    "                leo_data[sat_id]['GS_metrics'][gs_location][metric] = row[col]\n",
    "\n",
    "        elif col.startswith(\"GEO\"):\n",
    "            parts = col.split('_')\n",
    "            sat_id = int(parts[0].replace(\"GEO\", \"\"))\n",
    "            gs_location = parts[1]\n",
    "            metric = parts[2]\n",
    "\n",
    "            if sat_id not in geo_data:\n",
    "                geo_data[sat_id] = {'GS_metrics': {}}\n",
    "            if gs_location not in geo_data[sat_id]['GS_metrics']:\n",
    "                geo_data[sat_id]['GS_metrics'][gs_location] = {}\n",
    "            geo_data[sat_id]['GS_metrics'][gs_location][metric] = row[col]\n",
    "\n",
    "    return {'LEO': leo_data, 'GEO': geo_data}\n"
   ]
  },
  {
   "cell_type": "code",
   "execution_count": 106,
   "id": "53743830",
   "metadata": {},
   "outputs": [
    {
     "data": {
      "text/plain": [
       "{'LEO': {1: {'lat': -3.65454458585465,\n",
       "   'lon': 127.169756688252,\n",
       "   'GS_metrics': {'Melbourne': {'SNR': nan, 'RSSI': nan},\n",
       "    'Sydney': {'SNR': nan, 'RSSI': nan}}},\n",
       "  2: {'lat': -3.66533965637565,\n",
       "   'lon': 137.171129705337,\n",
       "   'GS_metrics': {'Melbourne': {'SNR': nan, 'RSSI': nan},\n",
       "    'Sydney': {'SNR': nan, 'RSSI': nan}}},\n",
       "  3: {'lat': -3.67211466705473,\n",
       "   'lon': 147.172603485687,\n",
       "   'GS_metrics': {'Melbourne': {'SNR': nan, 'RSSI': nan},\n",
       "    'Sydney': {'SNR': nan, 'RSSI': nan}}}},\n",
       " 'GEO': {1: {'GS_metrics': {'Melbourne': {'SNR': 47.0633078531765,\n",
       "     'RSSI': -103.85688315986},\n",
       "    'Sydney': {'SNR': 46.3783425398568, 'RSSI': -104.54184847318}}}}}"
      ]
     },
     "execution_count": 106,
     "metadata": {},
     "output_type": "execute_result"
    }
   ],
   "source": [
    "parse_satellite_data(df_obs_space.iloc[100])"
   ]
  },
  {
   "cell_type": "code",
   "execution_count": 107,
   "id": "630e4809",
   "metadata": {},
   "outputs": [],
   "source": [
    "import pandas as pd\n",
    "import re\n",
    "import numpy as np\n",
    "\n",
    "def build_satellite_data(df, row_index=0):\n",
    "    result = {'LEO': {}, 'GEO': {}}\n",
    "\n",
    "    for col in df.columns:\n",
    "        if col == 'Time':\n",
    "            continue\n",
    "\n",
    "        match = re.match(r'(LEO|GEO)(\\d+)_(.+)', col)\n",
    "        if not match:\n",
    "            continue\n",
    "\n",
    "        sat_type, sat_num_str, rest = match.groups()\n",
    "        sat_num = int(sat_num_str)\n",
    "\n",
    "        if sat_type not in result:\n",
    "            result[sat_type] = {}\n",
    "        if sat_num not in result[sat_type]:\n",
    "            result[sat_type][sat_num] = {}\n",
    "\n",
    "        value = df.at[row_index, col] if col in df.columns else np.nan\n",
    "\n",
    "        # Handle lat/lon\n",
    "        if rest == 'Lat':\n",
    "            result[sat_type][sat_num]['lat'] = value\n",
    "        elif rest == 'Lon':\n",
    "            result[sat_type][sat_num]['lon'] = value\n",
    "        else:\n",
    "            metric_match = re.match(r'(.+?)_(SNR|RSSI)', rest)\n",
    "            if metric_match:\n",
    "                location, metric = metric_match.groups()\n",
    "                if 'GS_metrics' not in result[sat_type][sat_num]:\n",
    "                    result[sat_type][sat_num]['GS_metrics'] = {}\n",
    "                if location not in result[sat_type][sat_num]['GS_metrics']:\n",
    "                    result[sat_type][sat_num]['GS_metrics'][location] = {'SNR': np.nan, 'RSSI': np.nan}\n",
    "                result[sat_type][sat_num]['GS_metrics'][location][metric] = value\n",
    "\n",
    "    return result\n"
   ]
  },
  {
   "cell_type": "code",
   "execution_count": 108,
   "id": "e79dfc3f",
   "metadata": {},
   "outputs": [
    {
     "data": {
      "text/plain": [
       "{'LEO': {1: {'lat': -65.2534969266155,\n",
       "   'lon': 131.196415035991,\n",
       "   'GS_metrics': {'Melbourne': {'SNR': nan, 'RSSI': nan},\n",
       "    'Sydney': {'SNR': nan, 'RSSI': nan}}},\n",
       "  2: {'lat': -65.2642338145129,\n",
       "   'lon': 141.243932914994,\n",
       "   'GS_metrics': {'Melbourne': {'SNR': nan, 'RSSI': nan},\n",
       "    'Sydney': {'SNR': nan, 'RSSI': nan}}},\n",
       "  3: {'lat': -65.2709744633676,\n",
       "   'lon': 151.294798696656,\n",
       "   'GS_metrics': {'Melbourne': {'SNR': nan, 'RSSI': nan},\n",
       "    'Sydney': {'SNR': nan, 'RSSI': nan}}}},\n",
       " 'GEO': {1: {'GS_metrics': {'Melbourne': {'SNR': 47.0632141790182,\n",
       "     'RSSI': -103.856976834019},\n",
       "    'Sydney': {'SNR': 46.3782582120455, 'RSSI': -104.541932800991}}}}}"
      ]
     },
     "execution_count": 108,
     "metadata": {},
     "output_type": "execute_result"
    }
   ],
   "source": [
    "build_satellite_data(df_obs_space,0)"
   ]
  },
  {
   "cell_type": "code",
   "execution_count": 109,
   "id": "ec1ec658",
   "metadata": {},
   "outputs": [],
   "source": [
    "import pandas as pd\n",
    "import re\n",
    "import numpy as np\n",
    "\n",
    "def build_all_satellite_data(df):\n",
    "    results = []\n",
    "\n",
    "    for i, row in df.iterrows():\n",
    "        row_data = {'LEO': {}, 'GEO': {}}\n",
    "\n",
    "        if 'Time' in df.columns:\n",
    "            row_data['Time'] = row['Time']\n",
    "\n",
    "        for col in df.columns:\n",
    "            if col == 'Time':\n",
    "                continue\n",
    "\n",
    "            match = re.match(r'(LEO|GEO)(\\d+)_(.+)', col)\n",
    "            if not match:\n",
    "                continue\n",
    "\n",
    "            sat_type, sat_num_str, rest = match.groups()\n",
    "            sat_num = int(sat_num_str)\n",
    "\n",
    "            if sat_num not in row_data[sat_type]:\n",
    "                row_data[sat_type][sat_num] = {}\n",
    "\n",
    "            value = row[col]\n",
    "\n",
    "            if rest == 'Lat':\n",
    "                row_data[sat_type][sat_num]['lat'] = value\n",
    "            elif rest == 'Lon':\n",
    "                row_data[sat_type][sat_num]['lon'] = value\n",
    "            else:\n",
    "                metric_match = re.match(r'(.+?)_(SNR|RSSI)', rest)\n",
    "                if metric_match:\n",
    "                    location, metric = metric_match.groups()\n",
    "                    if 'GS_metrics' not in row_data[sat_type][sat_num]:\n",
    "                        row_data[sat_type][sat_num]['GS_metrics'] = {}\n",
    "                    if location not in row_data[sat_type][sat_num]['GS_metrics']:\n",
    "                        row_data[sat_type][sat_num]['GS_metrics'][location] = {'SNR': np.nan, 'RSSI': np.nan}\n",
    "                    row_data[sat_type][sat_num]['GS_metrics'][location][metric] = value\n",
    "\n",
    "        results.append(row_data)\n",
    "\n",
    "    return results\n"
   ]
  },
  {
   "cell_type": "code",
   "execution_count": 116,
   "id": "d3f08a63",
   "metadata": {},
   "outputs": [
    {
     "data": {
      "text/plain": [
       "{'LEO': {1: {'lat': -65.2534969266155,\n",
       "   'lon': 131.196415035991,\n",
       "   'GS_metrics': {'Melbourne': {'SNR': nan, 'RSSI': nan},\n",
       "    'Sydney': {'SNR': nan, 'RSSI': nan}}},\n",
       "  2: {'lat': -65.2642338145129,\n",
       "   'lon': 141.243932914994,\n",
       "   'GS_metrics': {'Melbourne': {'SNR': nan, 'RSSI': nan},\n",
       "    'Sydney': {'SNR': nan, 'RSSI': nan}}},\n",
       "  3: {'lat': -65.2709744633676,\n",
       "   'lon': 151.294798696656,\n",
       "   'GS_metrics': {'Melbourne': {'SNR': nan, 'RSSI': nan},\n",
       "    'Sydney': {'SNR': nan, 'RSSI': nan}}}},\n",
       " 'GEO': {1: {'GS_metrics': {'Melbourne': {'SNR': 47.0632141790182,\n",
       "     'RSSI': -103.856976834019},\n",
       "    'Sydney': {'SNR': 46.3782582120455, 'RSSI': -104.541932800991}}}},\n",
       " 'Time': 1.7442864e+18}"
      ]
     },
     "execution_count": 116,
     "metadata": {},
     "output_type": "execute_result"
    }
   ],
   "source": [
    "build_all_satellite_data(df_obs_space.iloc[0:5])[0]"
   ]
  },
  {
   "cell_type": "code",
   "execution_count": null,
   "id": "64733877",
   "metadata": {},
   "outputs": [],
   "source": [
    "import numpy as np\n",
    "\n",
    "# Get all column names\n",
    "columns = df_obs_space.columns\n",
    "\n",
    "# Find how many unique LEO users are in the DataFrame\n",
    "leo_users = sorted(set(col.split('_')[0] for col in columns if col.startswith('LEO')))\n",
    "geo_users = sorted(set(col.split('_')[0] for col in columns if col.startswith('GEO')))\n",
    "# e.g., ['LEO1', 'LEO2', 'LEO3']\n"
   ]
  },
  {
   "cell_type": "code",
   "execution_count": 75,
   "id": "ea66d4d6",
   "metadata": {},
   "outputs": [],
   "source": [
    "import numpy as np\n",
    "\n",
    "# Dictionary to hold results\n",
    "user_data = {\n",
    "    'LEO': {},\n",
    "    'GEO': {}\n",
    "}\n",
    "\n",
    "# Loop through all columns\n",
    "for col in df_obs_space.columns:\n",
    "    parts = col.split('_')\n",
    "    if parts[0].startswith('LEO') or parts[0].startswith('GEO'):\n",
    "        user_type = 'LEO' if parts[0].startswith('LEO') else 'GEO'\n",
    "        user_id = parts[0]\n",
    "        location = parts[1] if len(parts) > 2 else None\n",
    "        metric = '_'.join(parts[2:]) if len(parts) > 2 else parts[1]\n",
    "\n",
    "        # Initialize nested dict\n",
    "        if user_id not in user_data[user_type]:\n",
    "            user_data[user_type][user_id] = {}\n",
    "\n",
    "        # Handle Lat/Lon separately\n",
    "        if metric in ['Lat', 'Lon']:\n",
    "            user_data[user_type][user_id][metric.lower()] = float(df_obs_space[col].iloc[0])\n",
    "        else:\n",
    "            # Handle RSSI and SNR (SINR)\n",
    "            if location not in user_data[user_type][user_id]:\n",
    "                user_data[user_type][user_id][location] = {}\n",
    "            user_data[user_type][user_id][location][metric] = float(df_obs_space[col].iloc[0])\n"
   ]
  },
  {
   "cell_type": "code",
   "execution_count": 76,
   "id": "15dd4ba8",
   "metadata": {},
   "outputs": [
    {
     "data": {
      "text/plain": [
       "{'LEO': {'LEO1': {'lat': -65.2534969266155,\n",
       "   'lon': 131.196415035991,\n",
       "   'Melbourne': {'SNR_dB': nan, 'RSSI_dBm': nan},\n",
       "   'Sydney': {'SNR_dB': nan, 'RSSI_dBm': nan}},\n",
       "  'LEO2': {'lat': -65.2642338145129,\n",
       "   'lon': 141.243932914994,\n",
       "   'Melbourne': {'SNR_dB': nan, 'RSSI_dBm': nan},\n",
       "   'Sydney': {'SNR_dB': nan, 'RSSI_dBm': nan}},\n",
       "  'LEO3': {'lat': -65.2709744633676,\n",
       "   'lon': 151.294798696656,\n",
       "   'Melbourne': {'SNR_dB': nan, 'RSSI_dBm': nan},\n",
       "   'Sydney': {'SNR_dB': nan, 'RSSI_dBm': nan}}},\n",
       " 'GEO': {'GEO1': {'Melbourne': {'SNR_dB': 47.0632141790182,\n",
       "    'RSSI_dBm': -103.856976834019},\n",
       "   'Sydney': {'SNR_dB': 46.3782582120455, 'RSSI_dBm': -104.541932800991}}}}"
      ]
     },
     "execution_count": 76,
     "metadata": {},
     "output_type": "execute_result"
    }
   ],
   "source": [
    "user_data"
   ]
  },
  {
   "cell_type": "code",
   "execution_count": 77,
   "id": "cfafacdf",
   "metadata": {},
   "outputs": [],
   "source": [
    "leo1_lat = np.array(df_obs_space['LEO1_Lat'].iloc[0], dtype=np.float64)\n",
    "leo1_lon = np.array(df_obs_space['LEO1_Lon'].iloc[0], dtype=np.float64)\n"
   ]
  },
  {
   "cell_type": "code",
   "execution_count": 83,
   "id": "a4007eac",
   "metadata": {},
   "outputs": [],
   "source": [
    "df_initial = parse_satellite_data(df_obs_space.iloc[0])"
   ]
  },
  {
   "cell_type": "code",
   "execution_count": 84,
   "id": "11ec3fa8",
   "metadata": {},
   "outputs": [
    {
     "data": {
      "text/plain": [
       "{'LEO': {1: {'lat': -65.2534969266155,\n",
       "   'lon': 131.196415035991,\n",
       "   'GS_metrics': {'Melbourne': {'SNR': nan, 'RSSI': nan},\n",
       "    'Sydney': {'SNR': nan, 'RSSI': nan}}},\n",
       "  2: {'lat': -65.2642338145129,\n",
       "   'lon': 141.243932914994,\n",
       "   'GS_metrics': {'Melbourne': {'SNR': nan, 'RSSI': nan},\n",
       "    'Sydney': {'SNR': nan, 'RSSI': nan}}},\n",
       "  3: {'lat': -65.2709744633676,\n",
       "   'lon': 151.294798696656,\n",
       "   'GS_metrics': {'Melbourne': {'SNR': nan, 'RSSI': nan},\n",
       "    'Sydney': {'SNR': nan, 'RSSI': nan}}}},\n",
       " 'GEO': {1: {'GS_metrics': {'Melbourne': {'SNR': 47.0632141790182,\n",
       "     'RSSI': -103.856976834019},\n",
       "    'Sydney': {'SNR': 46.3782582120455, 'RSSI': -104.541932800991}}}}}"
      ]
     },
     "execution_count": 84,
     "metadata": {},
     "output_type": "execute_result"
    }
   ],
   "source": [
    "df_initial"
   ]
  },
  {
   "cell_type": "code",
   "execution_count": 90,
   "id": "a9c07e19",
   "metadata": {},
   "outputs": [],
   "source": [
    "leo_data = df_initial['LEO']\n",
    "# Extract lat/lon and encode using geohash\n",
    "geohashes = [\n",
    "    geohash.encode(entry['lat'], entry['lon']) \n",
    "    for entry in leo_data.values()\n",
    "]"
   ]
  },
  {
   "cell_type": "code",
   "execution_count": 91,
   "id": "b6c14df4",
   "metadata": {},
   "outputs": [
    {
     "data": {
      "text/plain": [
       "['numkc2yqf492', 'phkkwp48q1jb', 'pk7sdvc9026x']"
      ]
     },
     "execution_count": 91,
     "metadata": {},
     "output_type": "execute_result"
    }
   ],
   "source": [
    "geohashes"
   ]
  },
  {
   "cell_type": "code",
   "execution_count": null,
   "id": "d11d1640",
   "metadata": {},
   "outputs": [
    {
     "name": "stdout",
     "output_type": "stream",
     "text": [
      "[-65.25349693 131.19641504 -65.26423381 141.24393291 -65.27097446\n",
      " 151.2947987 ]\n"
     ]
    }
   ],
   "source": [
    "# Assuming your dictionary is named df_initial\n",
    "leo_data = df_initial['LEO']\n",
    "\n",
    "# Extract lat/lon into a list of [lat, lon] pairs\n",
    "lat_lon_list = [[entry['lat'], entry['lon']] for entry in leo_data.values()]\n",
    "\n",
    "# Extract lat/lon pairs and geohash into a single list\n",
    "lat_lon_geohash = [val for entry in leo_data.values() for val in (entry['lat'], entry['lon'])]\n",
    "\n",
    "# Convert to NumPy array\n",
    "lat_lon_array = np.array(lat_lon_list, dtype=np.float64)\n",
    "\n",
    "# Flatten to 1D using np.ravel or .flatten\n",
    "lat_lon_1d = np.ravel(lat_lon_array)  # or use lat_lon_2d.flatten()\n",
    "\n",
    "print(lat_lon_1d)"
   ]
  },
  {
   "cell_type": "code",
   "execution_count": 98,
   "id": "e59da9a3",
   "metadata": {},
   "outputs": [],
   "source": [
    "df_initial = parse_satellite_data(df_obs_space.iloc[0])\n",
    "\n",
    "# observation = {\n",
    "#     \"utc_time\": np.array([df_obs_space['Time'].iloc[0]], dtype=np.int64),\n",
    "#     \"leo_pos\": np.array([val for entry in leo_data.values() for val in (entry['lat'], entry['lon'])], dtype=np.float64),\n",
    "#     \"leo_rssi\": np.array([val for entry in leo_data.values() for val in (entry['GS_metrics']['Melbourne']['RSSI_dBm'], entry['GS_metrics']['Sydney']['RSSI_dBm'])], dtype=np.float64),\n",
    "#     \"leo_snr\": np.array([val for entry in leo_data.values() for val in (entry['GS_metrics']['Melbourne']['SNR_dB'], entry['GS_metrics']['Sydney']['SNR_dB'])], dtype=np.float64),\n",
    "#     \"geo_rssi\": np.array([val for entry in df_initial['GEO'].values() for val in (entry['GS_metrics']['Melbourne']['RSSI_dBm'], entry['GS_metrics']['Sydney']['RSSI_dBm'])], dtype=np.float64),\n",
    "#     \"geo_snr\": np.array([val for entry in df_initial['GEO'].values() for val in (entry['GS_metrics']['Melbourne']['SNR_dB'], entry['GS_metrics']['Sydney']['SNR_dB'])], dtype=np.float64),\n",
    "# }\n",
    "\n",
    "\n",
    "observation = {\n",
    "    \"utc_time\": np.array([df_obs_space['Time'].iloc[0]], dtype=np.int64),\n",
    "    \"leo_pos\": np.array([val for entry in leo_data.values() for val in (entry['lat'], entry['lon'])], dtype=np.float64),\n",
    "    \"leo_rssi\": np.array([val for entry in leo_data.values() for val in (entry['GS_metrics']['Melbourne']['RSSI'], entry['GS_metrics']['Sydney']['RSSI'])], dtype=np.float64),\n",
    "    \"leo_snr\": np.array([val for entry in leo_data.values() for val in (entry['GS_metrics']['Melbourne']['SNR'], entry['GS_metrics']['Sydney']['SNR'])], dtype=np.float64),\n",
    "    \"geo_rssi\": np.array([val for entry in df_initial['GEO'].values() for val in (entry['GS_metrics']['Melbourne']['RSSI'], entry['GS_metrics']['Sydney']['RSSI'])], dtype=np.float64),\n",
    "    \"geo_snr\": np.array([val for entry in df_initial['GEO'].values() for val in (entry['GS_metrics']['Melbourne']['SNR'], entry['GS_metrics']['Sydney']['SNR'])], dtype=np.float64),\n",
    "}\n",
    "\n"
   ]
  },
  {
   "cell_type": "code",
   "execution_count": 99,
   "id": "ce5b959b",
   "metadata": {},
   "outputs": [
    {
     "data": {
      "text/plain": [
       "{'utc_time': array([1744286400000000000], dtype=int64),\n",
       " 'leo_pos': array([-65.25349693, 131.19641504, -65.26423381, 141.24393291,\n",
       "        -65.27097446, 151.2947987 ]),\n",
       " 'leo_rssi': array([nan, nan, nan, nan, nan, nan]),\n",
       " 'leo_snr': array([nan, nan, nan, nan, nan, nan]),\n",
       " 'geo_rssi': array([-103.85697683, -104.5419328 ]),\n",
       " 'geo_snr': array([47.06321418, 46.37825821])}"
      ]
     },
     "execution_count": 99,
     "metadata": {},
     "output_type": "execute_result"
    }
   ],
   "source": [
    "observation"
   ]
  },
  {
   "cell_type": "code",
   "execution_count": 79,
   "id": "ae90573d",
   "metadata": {},
   "outputs": [
    {
     "ename": "NameError",
     "evalue": "name 'Dict' is not defined",
     "output_type": "error",
     "traceback": [
      "\u001b[31m---------------------------------------------------------------------------\u001b[39m",
      "\u001b[31mNameError\u001b[39m                                 Traceback (most recent call last)",
      "\u001b[36mCell\u001b[39m\u001b[36m \u001b[39m\u001b[32mIn[79]\u001b[39m\u001b[32m, line 1\u001b[39m\n\u001b[32m----> \u001b[39m\u001b[32m1\u001b[39m \u001b[38;5;28mself\u001b[39m.observation_space = \u001b[43mDict\u001b[49m({\n\u001b[32m      2\u001b[39m     \u001b[33m\"\u001b[39m\u001b[33mutc_time\u001b[39m\u001b[33m\"\u001b[39m: Box(low=-np.inf, high=np.inf, shape=(\u001b[32m1\u001b[39m,), dtype=np.int64),\n\u001b[32m      3\u001b[39m     \u001b[33m\"\u001b[39m\u001b[33mleo_pos\u001b[39m\u001b[33m\"\u001b[39m: Box(low=-np.inf, high=np.inf, shape=(n_leo,), dtype=np.float64),\n\u001b[32m      4\u001b[39m     \u001b[33m\"\u001b[39m\u001b[33mleo_rssi\u001b[39m\u001b[33m\"\u001b[39m: Box(low=-np.inf, high=np.inf, shape=(n_leo*n_leo_users,), dtype=np.float64),\n\u001b[32m      5\u001b[39m     \u001b[33m\"\u001b[39m\u001b[33mleo_sinr\u001b[39m\u001b[33m\"\u001b[39m: Box(low=-np.inf, high=np.inf, shape=(n_leo*n_leo_users,), dtype=np.float64),\n\u001b[32m      6\u001b[39m     \u001b[33m\"\u001b[39m\u001b[33mgeo_rssi\u001b[39m\u001b[33m\"\u001b[39m: Box(low=-np.inf, high=np.inf, shape=(n_geo*n_geo_users,), dtype=np.float64),            \n\u001b[32m      7\u001b[39m     \u001b[33m\"\u001b[39m\u001b[33mgeo_sinr\u001b[39m\u001b[33m\"\u001b[39m: Box(low=-np.inf, high=np.inf, shape=(n_geo*n_geo_users,), dtype=np.float64),\n\u001b[32m      8\u001b[39m })\n",
      "\u001b[31mNameError\u001b[39m: name 'Dict' is not defined"
     ]
    }
   ],
   "source": [
    "self.observation_space = Dict({\n",
    "    \"utc_time\": Box(low=-np.inf, high=np.inf, shape=(1,), dtype=np.int64),\n",
    "    \"leo_pos\": Box(low=-np.inf, high=np.inf, shape=(n_leo,), dtype=np.float64),\n",
    "    \"leo_rssi\": Box(low=-np.inf, high=np.inf, shape=(n_leo*n_leo_users,), dtype=np.float64),\n",
    "    \"leo_sinr\": Box(low=-np.inf, high=np.inf, shape=(n_leo*n_leo_users,), dtype=np.float64),\n",
    "    \"geo_rssi\": Box(low=-np.inf, high=np.inf, shape=(n_geo*n_geo_users,), dtype=np.float64),            \n",
    "    \"geo_sinr\": Box(low=-np.inf, high=np.inf, shape=(n_geo*n_geo_users,), dtype=np.float64),\n",
    "})\n"
   ]
  },
  {
   "cell_type": "code",
   "execution_count": null,
   "id": "b81cebd4",
   "metadata": {},
   "outputs": [],
   "source": []
  }
 ],
 "metadata": {
  "kernelspec": {
   "display_name": "cogsat",
   "language": "python",
   "name": "python3"
  },
  "language_info": {
   "codemirror_mode": {
    "name": "ipython",
    "version": 3
   },
   "file_extension": ".py",
   "mimetype": "text/x-python",
   "name": "python",
   "nbconvert_exporter": "python",
   "pygments_lexer": "ipython3",
   "version": "3.12.9"
  }
 },
 "nbformat": 4,
 "nbformat_minor": 5
}
